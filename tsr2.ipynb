{
 "cells": [
  {
   "cell_type": "markdown",
   "metadata": {},
   "source": [
    "# Step-0: Import Libraries"
   ]
  },
  {
   "cell_type": "code",
   "execution_count": 1,
   "metadata": {},
   "outputs": [],
   "source": [
    "# Visualizations will be shown in the notebook.\n",
    "%matplotlib inline\n",
    "from importlib import reload\n",
    "import python_utils; reload(python_utils)\n",
    "from python_utils import *"
   ]
  },
  {
   "cell_type": "code",
   "execution_count": 2,
   "metadata": {},
   "outputs": [],
   "source": [
    "from imgaug import augmenters as iaa"
   ]
  },
  {
   "cell_type": "code",
   "execution_count": 3,
   "metadata": {},
   "outputs": [],
   "source": [
    "# Import crucial modules\n",
    "import pickle\n",
    "import tensorflow as tf\n",
    "import pandas as pd\n",
    "import numpy as np\n",
    "from sklearn.model_selection import train_test_split\n",
    "import cv2\n",
    "import warnings\n",
    "warnings.filterwarnings(\"ignore\")\n",
    "\n",
    "from sklearn.utils import shuffle\n",
    "import time"
   ]
  },
  {
   "cell_type": "markdown",
   "metadata": {},
   "source": [
    "# Load The Data"
   ]
  },
  {
   "cell_type": "code",
   "execution_count": 4,
   "metadata": {},
   "outputs": [],
   "source": [
    "datasets_path = \"F:/Desktop/tsr2/DataSet/german-traffic-signs/\"\n",
    "models_path = \"./models/\"\n",
    "\n",
    "training_file = datasets_path + 'train.p'\n",
    "validation_file= datasets_path + 'valid.p'\n",
    "testing_file = datasets_path + 'test.p'\n",
    "\n",
    "with open(training_file, mode='rb') as f:\n",
    "    train = pickle.load(f)\n",
    "with open(validation_file, mode='rb') as f:\n",
    "    valid = pickle.load(f)\n",
    "with open(testing_file, mode='rb') as f:\n",
    "    test = pickle.load(f)\n",
    "    \n",
    "X_train, y_train = train['features'], train['labels']\n",
    "X_valid, y_valid = valid['features'], valid['labels']\n",
    "X_test, y_test = test['features'], test['labels']"
   ]
  },
  {
   "cell_type": "markdown",
   "metadata": {},
   "source": [
    "# Step-1: Dataset Summary & Exploration\n",
    "The pickled data is a dictionary with 4 key/value pairs:\n",
    "\n",
    "* 'features' is a 4D array containing raw pixel data of the traffic sign images, (num examples, width, height, channels).\n",
    "* 'labels' is a 1D array containing the label/class id of the traffic sign. The file signnames.csv contains id -> name mappings for each id.\n",
    "* 'sizes' is a list containing tuples, (width, height) representing the original width and height the image.\n",
    "* 'coords' is a list containing tuples, (x1, y1, x2, y2) representing coordinates of a bounding box around the sign in the image.\n",
    "#### THESE COORDINATES ASSUME THE ORIGINAL IMAGE. THE PICKLED DATA CONTAINS RESIZED VERSIONS (32 by 32) OF THESE IMAGES"
   ]
  },
  {
   "cell_type": "markdown",
   "metadata": {},
   "source": [
    "## Providing a Basic Summary of the Data Set Using Python, Numpy and/or Pandas"
   ]
  },
  {
   "cell_type": "code",
   "execution_count": 5,
   "metadata": {},
   "outputs": [
    {
     "name": "stdout",
     "output_type": "stream",
     "text": [
      "Features shape X_train:  (34799, 32, 32, 3)\n",
      "Features shape y_train:  (34799,)\n"
     ]
    }
   ],
   "source": [
    "# Let's get some dimensions\n",
    "print(\"Features shape X_train: \", X_train.shape)\n",
    "print(\"Features shape y_train: \", y_train.shape)"
   ]
  },
  {
   "cell_type": "code",
   "execution_count": 6,
   "metadata": {},
   "outputs": [
    {
     "name": "stdout",
     "output_type": "stream",
     "text": [
      "Number of training examples = 34799\n",
      "Number of validation examples = 4410\n",
      "Number of testing examples = 12630\n",
      "Image data shape = (32, 32, 3)\n",
      "Number of classes = 43\n"
     ]
    }
   ],
   "source": [
    "# Number of training examples\n",
    "n_train = X_train.shape[0]\n",
    "\n",
    "# Number of validation examples\n",
    "n_validation = X_valid.shape[0]\n",
    "\n",
    "# Number of testing examples.\n",
    "n_test = X_test.shape[0]\n",
    "\n",
    "# What's the shape of an traffic sign image?\n",
    "image_shape = X_train.shape[1:]\n",
    "\n",
    "# How many unique classes/labels there are in the dataset.\n",
    "n_classes = len(set(y_train))\n",
    "\n",
    "print(\"Number of training examples =\", n_train)\n",
    "print(\"Number of validation examples =\", n_validation)\n",
    "print(\"Number of testing examples =\", n_test)\n",
    "print(\"Image data shape =\", image_shape)\n",
    "print(\"Number of classes =\", n_classes)"
   ]
  },
  {
   "cell_type": "markdown",
   "metadata": {},
   "source": [
    "## Group the images by class\n",
    "We leverage on the pandas module to group the images by label. Our first step is to import the signnames.csv file which contains English description of the labels."
   ]
  },
  {
   "cell_type": "code",
   "execution_count": 7,
   "metadata": {},
   "outputs": [
    {
     "data": {
      "text/html": [
       "<div>\n",
       "<style scoped>\n",
       "    .dataframe tbody tr th:only-of-type {\n",
       "        vertical-align: middle;\n",
       "    }\n",
       "\n",
       "    .dataframe tbody tr th {\n",
       "        vertical-align: top;\n",
       "    }\n",
       "\n",
       "    .dataframe thead th {\n",
       "        text-align: right;\n",
       "    }\n",
       "</style>\n",
       "<table border=\"1\" class=\"dataframe\">\n",
       "  <thead>\n",
       "    <tr style=\"text-align: right;\">\n",
       "      <th></th>\n",
       "      <th>ClassId</th>\n",
       "      <th>SignName</th>\n",
       "    </tr>\n",
       "  </thead>\n",
       "  <tbody>\n",
       "    <tr>\n",
       "      <th>0</th>\n",
       "      <td>0</td>\n",
       "      <td>Speed limit (20km/h)</td>\n",
       "    </tr>\n",
       "    <tr>\n",
       "      <th>1</th>\n",
       "      <td>1</td>\n",
       "      <td>Speed limit (30km/h)</td>\n",
       "    </tr>\n",
       "    <tr>\n",
       "      <th>2</th>\n",
       "      <td>2</td>\n",
       "      <td>Speed limit (50km/h)</td>\n",
       "    </tr>\n",
       "  </tbody>\n",
       "</table>\n",
       "</div>"
      ],
      "text/plain": [
       "   ClassId              SignName\n",
       "0        0  Speed limit (20km/h)\n",
       "1        1  Speed limit (30km/h)\n",
       "2        2  Speed limit (50km/h)"
      ]
     },
     "execution_count": 7,
     "metadata": {},
     "output_type": "execute_result"
    }
   ],
   "source": [
    "# Load sign names file\n",
    "sign_names = pd.read_csv(\"F:/Desktop/tsr2/DataSet/german-traffic-signs/signnames.csv\")\n",
    "sign_names.set_index(\"ClassId\")\n",
    "\n",
    "sign_names.head(n=3)"
   ]
  },
  {
   "cell_type": "code",
   "execution_count": null,
   "metadata": {},
   "outputs": [],
   "source": []
  },
  {
   "cell_type": "code",
   "execution_count": null,
   "metadata": {},
   "outputs": [],
   "source": []
  },
  {
   "cell_type": "code",
   "execution_count": 8,
   "metadata": {},
   "outputs": [],
   "source": [
    "########################################################################################################################\n",
    "######                                        Image processing functions                                          ######\n",
    "########################################################################################################################\n",
    "\n",
    "\n",
    "def normalise_images(imgs, dist):\n",
    "    \"\"\"\n",
    "    Normalise the supplied images from data in dist\n",
    "    \"\"\"\n",
    "    std = np.std(dist)\n",
    "    # std = 128\n",
    "    mean = np.mean(dist)\n",
    "    # mean = 128\n",
    "    return (imgs - mean) / std\n",
    "\n",
    "def to_grayscale(img):\n",
    "    \"\"\"\n",
    "    Converts an image in RGB format to grayscale\n",
    "    \"\"\"\n",
    "    return cv2.cvtColor(img, cv2.COLOR_RGB2GRAY)\n",
    "\n",
    "def augment_imgs(imgs, p):\n",
    "    \"\"\"\n",
    "    Performs a set of augmentations with with a probability p\n",
    "    \"\"\"\n",
    "    augs =  iaa.SomeOf((1, 2),\n",
    "          [\n",
    "              iaa.Crop(px=(0, 4)), # crop images from each side by 0 to 4px (randomly chosen)\n",
    "              iaa.Affine(scale={\"x\": (0.8, 1.2), \"y\": (0.8, 1.2)}),\n",
    "              iaa.Affine(translate_percent={\"x\": (-0.2, 0.2), \"y\": (-0.2, 0.2)}),\n",
    "              iaa.Affine(rotate=(-45, 45)), # rotate by -45 to +45 degrees)\n",
    "              iaa.Affine(shear=(-10, 10)) # shear by -10 to +10 degrees\n",
    "          ])\n",
    "\n",
    "\n",
    "    seq = iaa.Sequential([iaa.Sometimes(p, augs)])\n",
    "\n",
    "    return seq.augment_images(imgs)\n",
    "\n",
    "def augment_imgs_until_n(imgs, n, p):\n",
    "    \"\"\"\n",
    "    Takes care of augmenting images with a probability p, until n augmentations have been created\n",
    "    \"\"\"\n",
    "    i = 0\n",
    "    aug_imgs = []\n",
    "    while i < n:\n",
    "        augs = augment_imgs(imgs, p)\n",
    "        i += len(augs)\n",
    "        aug_imgs = augs if len(aug_imgs) == 0 else np.concatenate((aug_imgs, augs))\n",
    "\n",
    "    return aug_imgs[0 : n]"
   ]
  },
  {
   "cell_type": "code",
   "execution_count": 9,
   "metadata": {},
   "outputs": [],
   "source": [
    "########################################################################################################################\n",
    "######                                        Plot utility functions                                              ######\n",
    "########################################################################################################################\n",
    "\n",
    "def plot_results(metrics, axis, lbs, xlb, ylb,  title, fig_size=(7, 5), epochs_interval=10):\n",
    "    \"\"\"\n",
    "    Nifty utility function to plot results of the execution of our model\n",
    "    \"\"\"\n",
    "    fig, ax = plt.subplots(figsize=fig_size)\n",
    "\n",
    "    total_epochs = metrics[0].shape[0]\n",
    "    x_values = np.linspace(1, total_epochs, num=total_epochs, dtype=np.int32)\n",
    "\n",
    "    for m, l in zip(metrics, lbs):\n",
    "        ax.plot(line1 = ax.plot(x_values, m[:, axis], linewidth=2, label=l))\n",
    "\n",
    "    ax.set(xlabel=xlb, ylabel=ylb, title=title)\n",
    "    ax.xaxis.set_ticks(np.linspace(1, total_epochs, num=int(total_epochs/epochs_interval), dtype=np.int32))\n",
    "    ax.legend(loc='lower right')\n",
    "    plt.show()\n",
    "\n",
    "def plot_model_results(metrics, axes, lbs, xlb, ylb, titles, fig_title, fig_size=(7, 5), epochs_interval=10):\n",
    "    \"\"\"\n",
    "    Nifty utility function to plot results of the execution of our model\n",
    "    \"\"\"\n",
    "    fig, axs = plt.subplots(nrows=1, ncols=len(axes), figsize=fig_size)\n",
    "    print(\"Length of axis: {0}\".format(axs.shape))\n",
    "\n",
    "    total_epochs = metrics[0].shape[0]\n",
    "    x_values = np.linspace(1, total_epochs, num=total_epochs, dtype=np.int32)\n",
    "\n",
    "    for m, l in zip(metrics, lbs):\n",
    "        for i in range(0, len(axes)):\n",
    "            ax = axs[i]\n",
    "            axis = axes[i]\n",
    "            ax.plot(x_values, m[:, axis], linewidth=2, label=l)\n",
    "            ax.set(xlabel=xlb[i], ylabel=ylb[i], title=titles[i])\n",
    "            ax.xaxis.set_ticks(np.linspace(1, total_epochs, num=int(total_epochs/epochs_interval), dtype=np.int32))\n",
    "            ax.legend(loc='center right')\n",
    "\n",
    "    plt.suptitle(fig_title, fontsize=14, fontweight='bold')\n",
    "    plt.show()\n",
    "\n",
    "def show_image_list(img_list, img_labels, title, cols=2, fig_size=(15, 15), show_ticks=True):\n",
    "    \"\"\"\n",
    "    Utility function to show us a list of traffic sign images\n",
    "    \"\"\"\n",
    "    img_count = len(img_list)\n",
    "    rows = img_count // cols\n",
    "    cmap = None\n",
    "\n",
    "    fig, axes = plt.subplots(rows, cols, figsize=fig_size)\n",
    "\n",
    "    for i in range(0, img_count):\n",
    "        img_name = img_labels[i]     \n",
    "        img = img_list[i]\n",
    "        if len(img.shape) < 3 or img.shape[-1] < 3:\n",
    "            cmap = \"gray\"\n",
    "            img = np.reshape(img, (img.shape[0], img.shape[1]))\n",
    "\n",
    "        if not show_ticks:            \n",
    "            axes[i].axis(\"off\")\n",
    "            \n",
    "#         img = np.clip(img, 0, 1)\n",
    "        axes[i].imshow(img, cmap=cmap)\n",
    "\n",
    "    fig.suptitle(title, fontsize=12, fontweight='bold', y = 0.6)\n",
    "    fig.tight_layout()\n",
    "    plt.show()\n",
    "\n",
    "    return\n",
    "\n",
    "def show_random_dataset_images(group_label, imgs, to_show=5):\n",
    "    \"\"\"\n",
    "    This function takes a DataFrame of items group by labels as well as a set of images and\n",
    "    randomly selects to_show images to display\n",
    "    \"\"\"\n",
    "    for (lid, lbl), group in group_label:\n",
    "        # print(\"[{0}] : {1}\".format(lid, lbl))\n",
    "        rand_idx = np.random.randint(0, high=group['img_id'].size, size=to_show, dtype='int')\n",
    "        selected_rows = group.iloc[rand_idx]\n",
    "\n",
    "        selected_img = list(map(lambda img_id: imgs[img_id], selected_rows['img_id']))\n",
    "        selected_labels = list(map(lambda label_id: label_id, selected_rows['label_id']))\n",
    "        show_image_list(selected_img, selected_labels, \"{0}: {1}\".format(lid, lbl), cols=to_show, fig_size=(7, 7), show_ticks=False)\n",
    "\n",
    "\n",
    "\n",
    "\n"
   ]
  },
  {
   "cell_type": "code",
   "execution_count": 10,
   "metadata": {},
   "outputs": [],
   "source": [
    "########################################################################################################################\n",
    "######                                        Data manipulation functions                                         ######\n",
    "########################################################################################################################\n",
    "\n",
    "def group_img_id_to_lbl(lbs_ids, lbs_names):    \n",
    "    \"\"\"\n",
    "    Utility function to group images by label \n",
    "    \"\"\"\n",
    "    arr_map = []\n",
    "    for i in range(0, lbs_ids.shape[0]):\n",
    "        label_id = lbs_ids[i]\n",
    "        label_name = lbs_names[lbs_names[\"ClassId\"] == label_id][\"SignName\"].values[0]\n",
    "        arr_map.append({\"img_id\": i, \"label_id\": label_id, \"label_name\": label_name})\n",
    "\n",
    "    return pd.DataFrame(arr_map)\n",
    "\n",
    "def group_img_id_to_lb_count(img_id_to_lb):\n",
    "    \"\"\"\n",
    "    Returns a pivot table table indexed by label id and label name, where the aggregate function is count\n",
    "    \"\"\"\n",
    "    return pd.pivot_table(img_id_to_lb, index=[\"label_id\", \"label_name\"], values=[\"img_id\"], aggfunc='count')\n",
    "\n",
    "def create_sample_set(grouped_imgs_by_label, imgs, labels, pct=0.4):\n",
    "    \"\"\"\n",
    "    Creates a sample set containing pct elements of the original grouped dataset\n",
    "    \"\"\"\n",
    "    X_sample = []\n",
    "    y_sample = []\n",
    "\n",
    "    for (lid, lbl), group in grouped_imgs_by_label:\n",
    "        group_size = group['img_id'].size\n",
    "        img_count_to_copy = int(group_size * pct)\n",
    "        rand_idx = np.random.randint(0, high=group_size, size=img_count_to_copy, dtype='int')\n",
    "\n",
    "        selected_img_ids = group.iloc[rand_idx]['img_id'].values\n",
    "        selected_imgs = imgs[selected_img_ids]\n",
    "        selected_labels = labels[selected_img_ids]\n",
    "        X_sample = selected_imgs if len(X_sample) == 0 else np.concatenate((selected_imgs, X_sample), axis=0)\n",
    "        y_sample = selected_labels if len(y_sample) == 0 else np.concatenate((selected_labels, y_sample), axis=0)\n",
    "\n",
    "\n",
    "    return (X_sample, y_sample)\n",
    "\n"
   ]
  },
  {
   "cell_type": "markdown",
   "metadata": {},
   "source": [
    "#### Group Images In Training set"
   ]
  },
  {
   "cell_type": "code",
   "execution_count": 11,
   "metadata": {},
   "outputs": [],
   "source": [
    "X_train_id_to_label = group_img_id_to_lbl(y_train, sign_names)"
   ]
  },
  {
   "cell_type": "code",
   "execution_count": 12,
   "metadata": {},
   "outputs": [
    {
     "data": {
      "text/html": [
       "<div>\n",
       "<style scoped>\n",
       "    .dataframe tbody tr th:only-of-type {\n",
       "        vertical-align: middle;\n",
       "    }\n",
       "\n",
       "    .dataframe tbody tr th {\n",
       "        vertical-align: top;\n",
       "    }\n",
       "\n",
       "    .dataframe thead th {\n",
       "        text-align: right;\n",
       "    }\n",
       "</style>\n",
       "<table border=\"1\" class=\"dataframe\">\n",
       "  <thead>\n",
       "    <tr style=\"text-align: right;\">\n",
       "      <th></th>\n",
       "      <th>img_id</th>\n",
       "      <th>label_id</th>\n",
       "      <th>label_name</th>\n",
       "    </tr>\n",
       "  </thead>\n",
       "  <tbody>\n",
       "    <tr>\n",
       "      <th>0</th>\n",
       "      <td>0</td>\n",
       "      <td>41</td>\n",
       "      <td>End of no passing</td>\n",
       "    </tr>\n",
       "    <tr>\n",
       "      <th>1</th>\n",
       "      <td>1</td>\n",
       "      <td>41</td>\n",
       "      <td>End of no passing</td>\n",
       "    </tr>\n",
       "    <tr>\n",
       "      <th>2</th>\n",
       "      <td>2</td>\n",
       "      <td>41</td>\n",
       "      <td>End of no passing</td>\n",
       "    </tr>\n",
       "    <tr>\n",
       "      <th>3</th>\n",
       "      <td>3</td>\n",
       "      <td>41</td>\n",
       "      <td>End of no passing</td>\n",
       "    </tr>\n",
       "    <tr>\n",
       "      <th>4</th>\n",
       "      <td>4</td>\n",
       "      <td>41</td>\n",
       "      <td>End of no passing</td>\n",
       "    </tr>\n",
       "  </tbody>\n",
       "</table>\n",
       "</div>"
      ],
      "text/plain": [
       "   img_id  label_id         label_name\n",
       "0       0        41  End of no passing\n",
       "1       1        41  End of no passing\n",
       "2       2        41  End of no passing\n",
       "3       3        41  End of no passing\n",
       "4       4        41  End of no passing"
      ]
     },
     "execution_count": 12,
     "metadata": {},
     "output_type": "execute_result"
    }
   ],
   "source": [
    "# Let's print a few of those mappings now\n",
    "X_train_id_to_label.head()"
   ]
  },
  {
   "cell_type": "code",
   "execution_count": 13,
   "metadata": {},
   "outputs": [],
   "source": [
    "# We should group by label id to understand the distribution\n",
    "X_train_group_by_label_count = group_img_id_to_lb_count(X_train_id_to_label)"
   ]
  },
  {
   "cell_type": "code",
   "execution_count": 14,
   "metadata": {},
   "outputs": [
    {
     "data": {
      "text/html": [
       "<div>\n",
       "<style scoped>\n",
       "    .dataframe tbody tr th:only-of-type {\n",
       "        vertical-align: middle;\n",
       "    }\n",
       "\n",
       "    .dataframe tbody tr th {\n",
       "        vertical-align: top;\n",
       "    }\n",
       "\n",
       "    .dataframe thead th {\n",
       "        text-align: right;\n",
       "    }\n",
       "</style>\n",
       "<table border=\"1\" class=\"dataframe\">\n",
       "  <thead>\n",
       "    <tr style=\"text-align: right;\">\n",
       "      <th></th>\n",
       "      <th></th>\n",
       "      <th>img_id</th>\n",
       "    </tr>\n",
       "    <tr>\n",
       "      <th>label_id</th>\n",
       "      <th>label_name</th>\n",
       "      <th></th>\n",
       "    </tr>\n",
       "  </thead>\n",
       "  <tbody>\n",
       "    <tr>\n",
       "      <th>0</th>\n",
       "      <th>Speed limit (20km/h)</th>\n",
       "      <td>180</td>\n",
       "    </tr>\n",
       "    <tr>\n",
       "      <th>1</th>\n",
       "      <th>Speed limit (30km/h)</th>\n",
       "      <td>1980</td>\n",
       "    </tr>\n",
       "    <tr>\n",
       "      <th>2</th>\n",
       "      <th>Speed limit (50km/h)</th>\n",
       "      <td>2010</td>\n",
       "    </tr>\n",
       "    <tr>\n",
       "      <th>3</th>\n",
       "      <th>Speed limit (60km/h)</th>\n",
       "      <td>1260</td>\n",
       "    </tr>\n",
       "  </tbody>\n",
       "</table>\n",
       "</div>"
      ],
      "text/plain": [
       "                               img_id\n",
       "label_id label_name                  \n",
       "0        Speed limit (20km/h)     180\n",
       "1        Speed limit (30km/h)    1980\n",
       "2        Speed limit (50km/h)    2010\n",
       "3        Speed limit (60km/h)    1260"
      ]
     },
     "execution_count": 14,
     "metadata": {},
     "output_type": "execute_result"
    }
   ],
   "source": [
    "X_train_group_by_label_count.head(n=4)"
   ]
  },
  {
   "cell_type": "markdown",
   "metadata": {},
   "source": [
    "We can already witness siginificant data imbalance across the classes in the training. For instance class 0 has less than 200 images, while class 2 has over 2000 images. Let's plot the number of images against the class to better understand visually where we stand."
   ]
  },
  {
   "cell_type": "markdown",
   "metadata": {},
   "source": [
    "#### Training Set Distribution Visualization"
   ]
  },
  {
   "cell_type": "code",
   "execution_count": 15,
   "metadata": {},
   "outputs": [
    {
     "data": {
      "image/png": "[encoded data removed]",
      "text/plain": [
       "<Figure size 1080x504 with 1 Axes>"
      ]
     },
     "metadata": {
      "needs_background": "light"
     },
     "output_type": "display_data"
    }
   ],
   "source": [
    "# Now count the number of images for each class and plot the results so that we understand the distribution\n",
    "X_train_group_by_label_count.plot(kind='bar', figsize=(15, 7))\n",
    "plt.show()"
   ]
  },
  {
   "cell_type": "markdown",
   "metadata": {},
   "source": [
    "This confirms the significant class imbalance we observed earlier. At this stage we will not attempt to address it."
   ]
  },
  {
   "cell_type": "markdown",
   "metadata": {},
   "source": [
    "#### Training Set Image Visualization"
   ]
  },
  {
   "cell_type": "code",
   "execution_count": 16,
   "metadata": {},
   "outputs": [],
   "source": [
    "# Let's plot images from each of these classes\n",
    "X_train_group_by_label = X_train_id_to_label.groupby([\"label_id\", \"label_name\"])\n",
    "img_per_class = 5\n",
    "\n",
    "# show_random_dataset_images(X_train_group_by_label, X_train)"
   ]
  },
  {
   "cell_type": "markdown",
   "metadata": {},
   "source": [
    "### Group Images In Validation Set"
   ]
  },
  {
   "cell_type": "code",
   "execution_count": 17,
   "metadata": {},
   "outputs": [],
   "source": [
    "# Create a data frame whereby we index image id  with label\n",
    "X_valid_id_to_label = group_img_id_to_lbl(y_valid, sign_names)"
   ]
  },
  {
   "cell_type": "code",
   "execution_count": 18,
   "metadata": {},
   "outputs": [
    {
     "data": {
      "text/html": [
       "<div>\n",
       "<style scoped>\n",
       "    .dataframe tbody tr th:only-of-type {\n",
       "        vertical-align: middle;\n",
       "    }\n",
       "\n",
       "    .dataframe tbody tr th {\n",
       "        vertical-align: top;\n",
       "    }\n",
       "\n",
       "    .dataframe thead th {\n",
       "        text-align: right;\n",
       "    }\n",
       "</style>\n",
       "<table border=\"1\" class=\"dataframe\">\n",
       "  <thead>\n",
       "    <tr style=\"text-align: right;\">\n",
       "      <th></th>\n",
       "      <th>img_id</th>\n",
       "      <th>label_id</th>\n",
       "      <th>label_name</th>\n",
       "    </tr>\n",
       "  </thead>\n",
       "  <tbody>\n",
       "    <tr>\n",
       "      <th>0</th>\n",
       "      <td>0</td>\n",
       "      <td>41</td>\n",
       "      <td>End of no passing</td>\n",
       "    </tr>\n",
       "    <tr>\n",
       "      <th>1</th>\n",
       "      <td>1</td>\n",
       "      <td>41</td>\n",
       "      <td>End of no passing</td>\n",
       "    </tr>\n",
       "    <tr>\n",
       "      <th>2</th>\n",
       "      <td>2</td>\n",
       "      <td>41</td>\n",
       "      <td>End of no passing</td>\n",
       "    </tr>\n",
       "  </tbody>\n",
       "</table>\n",
       "</div>"
      ],
      "text/plain": [
       "   img_id  label_id         label_name\n",
       "0       0        41  End of no passing\n",
       "1       1        41  End of no passing\n",
       "2       2        41  End of no passing"
      ]
     },
     "execution_count": 18,
     "metadata": {},
     "output_type": "execute_result"
    }
   ],
   "source": [
    "# Let's print a few of those mappings now\n",
    "X_valid_id_to_label.head(n=3)"
   ]
  },
  {
   "cell_type": "code",
   "execution_count": 19,
   "metadata": {},
   "outputs": [],
   "source": [
    "# We should group by label id to understand the distribution\n",
    "X_valid_group_by_label_count = group_img_id_to_lb_count(X_valid_id_to_label)"
   ]
  },
  {
   "cell_type": "code",
   "execution_count": 20,
   "metadata": {},
   "outputs": [
    {
     "data": {
      "text/html": [
       "<div>\n",
       "<style scoped>\n",
       "    .dataframe tbody tr th:only-of-type {\n",
       "        vertical-align: middle;\n",
       "    }\n",
       "\n",
       "    .dataframe tbody tr th {\n",
       "        vertical-align: top;\n",
       "    }\n",
       "\n",
       "    .dataframe thead th {\n",
       "        text-align: right;\n",
       "    }\n",
       "</style>\n",
       "<table border=\"1\" class=\"dataframe\">\n",
       "  <thead>\n",
       "    <tr style=\"text-align: right;\">\n",
       "      <th></th>\n",
       "      <th></th>\n",
       "      <th>img_id</th>\n",
       "    </tr>\n",
       "    <tr>\n",
       "      <th>label_id</th>\n",
       "      <th>label_name</th>\n",
       "      <th></th>\n",
       "    </tr>\n",
       "  </thead>\n",
       "  <tbody>\n",
       "    <tr>\n",
       "      <th>0</th>\n",
       "      <th>Speed limit (20km/h)</th>\n",
       "      <td>30</td>\n",
       "    </tr>\n",
       "    <tr>\n",
       "      <th>1</th>\n",
       "      <th>Speed limit (30km/h)</th>\n",
       "      <td>240</td>\n",
       "    </tr>\n",
       "    <tr>\n",
       "      <th>2</th>\n",
       "      <th>Speed limit (50km/h)</th>\n",
       "      <td>240</td>\n",
       "    </tr>\n",
       "  </tbody>\n",
       "</table>\n",
       "</div>"
      ],
      "text/plain": [
       "                               img_id\n",
       "label_id label_name                  \n",
       "0        Speed limit (20km/h)      30\n",
       "1        Speed limit (30km/h)     240\n",
       "2        Speed limit (50km/h)     240"
      ]
     },
     "execution_count": 20,
     "metadata": {},
     "output_type": "execute_result"
    }
   ],
   "source": [
    "X_valid_group_by_label_count.head(3)"
   ]
  },
  {
   "cell_type": "markdown",
   "metadata": {},
   "source": [
    "#### Validation Set Distribution Visualization"
   ]
  },
  {
   "cell_type": "code",
   "execution_count": 21,
   "metadata": {},
   "outputs": [
    {
     "data": {
      "image/png": "[encoded data removed]",
      "text/plain": [
       "<Figure size 1080x504 with 1 Axes>"
      ]
     },
     "metadata": {
      "needs_background": "light"
     },
     "output_type": "display_data"
    }
   ],
   "source": [
    "# Now count the number of images for each class and plot the results so that we understand the distribution\n",
    "X_valid_group_by_label_count.plot(kind='bar', figsize=(15, 7))\n",
    "plt.show()"
   ]
  },
  {
   "cell_type": "markdown",
   "metadata": {},
   "source": [
    "We also observe significant imbalance in the validation set. This is honestly less of a problem as we do not train our data on it.\n",
    "\n",
    "#### Validation Set Images Visualization"
   ]
  },
  {
   "cell_type": "code",
   "execution_count": 22,
   "metadata": {},
   "outputs": [],
   "source": [
    "# Let's plot images from each of these classes\n",
    "X_valid_group_by_label = X_valid_id_to_label.groupby([\"label_id\", \"label_name\"])\n",
    "\n",
    "# show_random_dataset_images(X_valid_group_by_label, X_valid)"
   ]
  },
  {
   "cell_type": "markdown",
   "metadata": {},
   "source": [
    "The validation set seems to suffer from the same problems as the training set, where some images are extremely dark.\n",
    "\n",
    "#### Create a sample set\n",
    "As we have over 30 thousand images, we do not want to try every model on the whole dataset as this would be extremely time consuming. Instead, we create sample datasets for training and validation, where we copy a percentage P of both dataset."
   ]
  },
  {
   "cell_type": "code",
   "execution_count": 23,
   "metadata": {},
   "outputs": [
    {
     "name": "stdout",
     "output_type": "stream",
     "text": [
      "Sample training images dimensions=(11464, 32, 32, 3), labels dimensions=(11464,)\n",
      "Sample validation images dimensions=(1427, 32, 32, 3), labels dimensions=(1427,)\n"
     ]
    }
   ],
   "source": [
    "X_sample_train, y_sample_train = create_sample_set(X_train_group_by_label, X_train, y_train, pct=0.33)\n",
    "print(\"Sample training images dimensions={0}, labels dimensions={1}\".format(X_sample_train.shape, y_sample_train.shape))\n",
    "\n",
    "X_sample_valid, y_sample_valid = create_sample_set(X_valid_group_by_label, X_valid, y_valid, pct=0.33)\n",
    "print(\"Sample validation images dimensions={0}, labels dimensions={1}\".format(X_sample_valid.shape, y_sample_valid.shape))"
   ]
  },
  {
   "cell_type": "markdown",
   "metadata": {},
   "source": [
    "We can see that some images are very dark, and we should therefore look at applying a pre-processing step to brighten them if possible."
   ]
  },
  {
   "cell_type": "markdown",
   "metadata": {},
   "source": [
    "# Step 2: Design and Test a Model Architecture\n",
    "Design and implement a deep learning model that learns to recognize traffic signs. Train and test your model on the German Traffic Sign Dataset.\n",
    "\n",
    "The LeNet-5 implementation shown in the classroom at the end of the CNN lesson is a solid starting point. You'll have to change the number of classes and possibly the preprocessing, but aside from that it's plug and play!\n",
    "\n",
    "With the LeNet-5 solution from the lecture, you should expect a validation set accuracy of about 0.89. To meet specifications, the validation set accuracy will need to be at least 0.93. It is possible to get an even higher accuracy, but 0.93 is the minimum for a successful project submission.\n",
    "\n",
    "There are various aspects to consider when thinking about this problem:\n",
    "\n",
    "* Neural network architecture (is the network over or underfitting?)\n",
    "* Play around preprocessing techniques (normalization, rgb to grayscale, etc)\n",
    "* Number of examples per label (some have more than others).\n",
    "* Generate fake data.\n",
    "\n",
    "Here is an example of a published baseline model on this problem. It's not required to be familiar with the approach used in the paper but, it's good practice to try to read papers like these.\n",
    "\n",
    "## Data Pre-Processing\n",
    "Minimally, the image data should be normalized so that the data has mean zero and equal variance. For image data, (pixel - 128)/ 128 is a quick way to approximately normalize the data and can be used in this project.\n",
    "\n",
    "Other pre-processing steps are optional. You can try different techniques to see if it improves performance.\n",
    "\n",
    "Use the code cell (or multiple code cells, if necessary) to implement the first step of your project.\n",
    "\n",
    "### Normalisation\n",
    "Normalise training, validation & test sets, using mean and standard deviation of training set"
   ]
  },
  {
   "cell_type": "code",
   "execution_count": 24,
   "metadata": {},
   "outputs": [],
   "source": [
    "# Normalising training set\n",
    "X_train_normalised = normalise_images(X_train, X_train)"
   ]
  },
  {
   "cell_type": "code",
   "execution_count": 25,
   "metadata": {},
   "outputs": [],
   "source": [
    "# Normalising validation set\n",
    "X_valid_normalised = normalise_images(X_valid, X_train) "
   ]
  },
  {
   "cell_type": "code",
   "execution_count": 26,
   "metadata": {},
   "outputs": [],
   "source": [
    "# Normalising testing set\n",
    "X_test_normalised = normalise_images(X_test, X_train)"
   ]
  },
  {
   "cell_type": "code",
   "execution_count": 27,
   "metadata": {
    "scrolled": false
   },
   "outputs": [],
   "source": [
    "# show_random_dataset_images(X_valid_group_by_label, X_valid_normalised)\n"
   ]
  },
  {
   "cell_type": "markdown",
   "metadata": {},
   "source": [
    "### Grayscale"
   ]
  },
  {
   "cell_type": "markdown",
   "metadata": {},
   "source": [
    "We can see that grayscaling somewhat improves the visibility of the images, but some of them still remain very dark. At this stage we will not address this problem."
   ]
  },
  {
   "cell_type": "code",
   "execution_count": 28,
   "metadata": {
    "scrolled": false
   },
   "outputs": [],
   "source": [
    "# Let's test our image graying features on training set\n",
    "X_train_grayscale = np.asarray(list(map(lambda img: to_grayscale(img), X_train))) \n",
    "# show_random_dataset_images(X_train_group_by_label, X_train_grayscale)"
   ]
  },
  {
   "cell_type": "code",
   "execution_count": 29,
   "metadata": {},
   "outputs": [],
   "source": [
    "# Do the same on validation set\n",
    "X_valid_grayscale = np.asarray(list(map(lambda img: to_grayscale(img), X_valid))) \n",
    "# show_random_dataset_images(X_valid_group_by_label, X_valid_grayscale)"
   ]
  },
  {
   "cell_type": "code",
   "execution_count": 30,
   "metadata": {},
   "outputs": [
    {
     "data": {
      "image/png": "[encoded data removed]",
      "text/plain": [
       "<Figure size 360x576 with 3 Axes>"
      ]
     },
     "metadata": {
      "needs_background": "light"
     },
     "output_type": "display_data"
    }
   ],
   "source": [
    "# Also grayscale test data\n",
    "X_test_grayscale = np.asarray(list(map(lambda img: to_grayscale(img), X_test))) \n",
    "show_image_list(X_test_grayscale[10:13], y_test[10:13], \"Gray image\", cols=3, fig_size=(5, 8), show_ticks=False)"
   ]
  },
  {
   "cell_type": "markdown",
   "metadata": {},
   "source": [
    "## Model Architectures\n",
    "In this section, we will a configurable neural network architecture where the number of layers as well as filter sizes can be modified. But first, we set up the pipeline to enable us to achieve our goal.\n",
    "\n",
    "### Configuration and Execution Pipeline\n",
    "We define the steps necessary to build a training pipeline in Tensorflow. These are defined as classes to increase flexibility."
   ]
  },
  {
   "cell_type": "code",
   "execution_count": 31,
   "metadata": {},
   "outputs": [],
   "source": [
    "class ModelConfig:\n",
    "    \"\"\"\n",
    "    ModelConfig is a utility class that stores important configuration option about our model\n",
    "    \"\"\"\n",
    "\n",
    "    def __init__(self, model, name, input_img_dimensions, conv_layers_config, fc_output_dims, output_classes, dropout_keep_pct):\n",
    "        self.model = model\n",
    "        self.name=name\n",
    "        self.input_img_dimensions = input_img_dimensions\n",
    "        \n",
    "        # Determines the wxh dimension of filters, the starting depth (increases by x2 at every layer) \n",
    "        # and how many convolutional layers the network has\n",
    "        self.conv_filter_size = conv_layers_config[0]\n",
    "        self.conv_depth_start = conv_layers_config[1]\n",
    "        self.conv_layers_count = conv_layers_config[2]\n",
    "\n",
    "\n",
    "        self.fc_output_dims = fc_output_dims \n",
    "        self.output_classes = output_classes\n",
    "\n",
    "        # Try with different values for drop out at convolutional and fully connected layers\n",
    "        self.dropout_conv_keep_pct = dropout_keep_pct[0]\n",
    "        self.dropout_fc_keep_pct = dropout_keep_pct[1]"
   ]
  },
  {
   "cell_type": "code",
   "execution_count": 32,
   "metadata": {},
   "outputs": [
    {
     "name": "stdout",
     "output_type": "stream",
     "text": [
      "WARNING:tensorflow:From C:\\Users\\User\\anaconda3\\envs\\Deep-Learning\\lib\\site-packages\\tensorflow_core\\python\\compat\\v2_compat.py:88: disable_resource_variables (from tensorflow.python.ops.variable_scope) is deprecated and will be removed in a future version.\n",
      "Instructions for updating:\n",
      "non-resource variables are not supported in the long term\n"
     ]
    }
   ],
   "source": [
    "import tensorflow.compat.v1 as tf\n",
    "tf.disable_v2_behavior()"
   ]
  },
  {
   "cell_type": "code",
   "execution_count": 33,
   "metadata": {},
   "outputs": [],
   "source": [
    "class ModelExecutor:\n",
    "    \"\"\"\n",
    "    ModelExecutor is responsible for executing the supplied model\n",
    "    \"\"\"\n",
    "    def __init__(self, model_config, learning_rate=0.001):\n",
    "        self.model_config = model_config\n",
    "        self.learning_rate = learning_rate\n",
    "    \n",
    "        self.graph = tf.Graph()\n",
    "        with self.graph.as_default() as g:\n",
    "            with g.name_scope( self.model_config.name ) as scope:\n",
    "                # Create Model operations\n",
    "                self.create_model_operations()\n",
    "\n",
    "                # Create a saver to persist the results of execution\n",
    "                self.saver = tf.compat.v1.train.Saver()\n",
    "    \n",
    "    def create_placeholders(self):\n",
    "        \"\"\"\n",
    "        Defining our placeholder variables:\n",
    "            - x, y\n",
    "            - one_hot_y\n",
    "            - dropout placeholders\n",
    "        \"\"\"\n",
    "\n",
    "        # e.g. 32 * 32 * 3\n",
    "        input_dims = self.model_config.input_img_dimensions\n",
    "        self.x = tf.compat.v1.placeholder(tf.float32, (None, input_dims[0], input_dims[1], input_dims[2]), name=\"{0}_x\".format(self.model_config.name))\n",
    "        self.y = tf.compat.v1.placeholder(tf.int32, (None), name=\"{0}_y\".format(self.model_config.name))\n",
    "        self.one_hot_y = tf.one_hot(self.y, self.model_config.output_classes)\n",
    "\n",
    "        self.dropout_placeholder_conv = tf.compat.v1.placeholder(tf.float32)\n",
    "        self.dropout_placeholder_fc = tf.compat.v1.placeholder(tf.float32)\n",
    "\n",
    "    \n",
    "    def create_model_operations(self):\n",
    "        \"\"\"\n",
    "        Sets up all operations needed to execute run deep learning pipeline\n",
    "        \"\"\"\n",
    "\n",
    "        # First step is to set our x, y, etc\n",
    "        self.create_placeholders()\n",
    "\n",
    "        cnn = self.model_config.model\n",
    "\n",
    "        # Build the network -  TODO: pass the configuration in the future\n",
    "        self.logits = cnn(self.x, self.model_config, self.dropout_placeholder_conv, self.dropout_placeholder_fc)\n",
    "        # Obviously, using softmax as the activation function for final layer\n",
    "        self.cross_entropy = tf.nn.softmax_cross_entropy_with_logits(labels=self.one_hot_y, logits=self.logits)\n",
    "        # Combined all the losses across batches\n",
    "        self.loss_operation = tf.reduce_mean(self.cross_entropy)\n",
    "        # What method do we use to reduce our loss?\n",
    "        self.optimizer = tf.compat.v1.train.AdamOptimizer(learning_rate=self.learning_rate)\n",
    "        # What do we really do in a training operation then? Answer: we attempt to reduce the loss using our chosen optimizer\n",
    "        self.training_operation = self.optimizer.minimize(self.loss_operation)\n",
    "\n",
    "        # Get the top prediction for model against labels and check whether they match\n",
    "        self.correct_prediction = tf.equal(tf.argmax(self.logits, 1), tf.argmax(self.one_hot_y, 1))\n",
    "        # Compute accuracy at batch level\n",
    "        self.accuracy_operation = tf.reduce_mean(tf.cast(self.correct_prediction, tf.float32))\n",
    "\n",
    "        # compute what the prediction would be, when we don't have matching label\n",
    "        self.prediction = tf.argmax(self.logits, 1)\n",
    "        # Registering our top 5 predictions\n",
    "        self.top5_predictions = tf.nn.top_k(tf.nn.softmax(self.logits), k=5, sorted=True, name=None)\n",
    "\n",
    "        \n",
    "    def evaluate_model(self, X_data, Y_data, batch_size):\n",
    "        \"\"\"\n",
    "        Evaluates the model's accuracy and loss for the supplied dataset. \n",
    "        Naturally, Dropout is ignored in this case (i.e. we set dropout_keep_pct to 1.0)\n",
    "        \"\"\"\n",
    "        \n",
    "        num_examples = len(X_data)\n",
    "        total_accuracy = 0.0\n",
    "        total_loss = 0.0\n",
    "        sess = tf.get_default_session()\n",
    "\n",
    "        for offset in range(0, num_examples, batch_size):\n",
    "            batch_x, batch_y = X_data[offset:offset+batch_size], Y_data[offset:offset+batch_size]\n",
    "            \n",
    "            # Compute both accuracy and loss for this batch\n",
    "            accuracy = sess.run(self.accuracy_operation, \n",
    "                                feed_dict={\n",
    "                                    self.dropout_placeholder_conv: 1.0,\n",
    "                                    self.dropout_placeholder_fc: 1.0,\n",
    "                                    self.x: batch_x, \n",
    "                                    self.y: batch_y\n",
    "                                           })\n",
    "            loss = sess.run(self.loss_operation, feed_dict={\n",
    "                                    self.dropout_placeholder_conv: 1.0,\n",
    "                                    self.dropout_placeholder_fc: 1.0,\n",
    "                                    self.x: batch_x, \n",
    "                                    self.y: batch_y\n",
    "                                           })\n",
    "\n",
    "            # Weighting accuracy by the total number of elements in batch\n",
    "            total_accuracy += (accuracy * len(batch_x))        \n",
    "            total_loss += (loss * len(batch_x))            \n",
    "\n",
    "        # To produce a true mean accuracy over whole dataset\n",
    "        return (total_accuracy / num_examples, total_loss / num_examples) \n",
    "    \n",
    "    \n",
    "    def train_model(self, X_train_features, X_train_labels, X_valid_features, y_valid_labels, batch_size=512, epochs=100, PRINT_FREQ=10):\n",
    "        \"\"\"\n",
    "        Trains the model for the specified number of epochs supplied when creating the executor\n",
    "        \"\"\"\n",
    "\n",
    "        # Create our array of metrics    \n",
    "        training_metrics = np.zeros((epochs, 3))\n",
    "        validation_metrics = np.zeros((epochs, 3))\n",
    "\n",
    "\n",
    "        with tf.compat.v1.Session(graph = self.graph, config=tf.compat.v1.ConfigProto(allow_soft_placement=True, log_device_placement=True)) as sess:            \n",
    "            \n",
    "            sess.run(tf.compat.v1.global_variables_initializer())\n",
    "            num_examples = len(X_train_features)\n",
    "\n",
    "\n",
    "            print(\"Training {0} [epochs={1}, batch_size={2}]...\\n\".format(self.model_config.name, epochs, batch_size))\n",
    "\n",
    "            for i in range(epochs):\n",
    "                start = time.time()\n",
    "                X_train, Y_train = shuffle(X_train_features, X_train_labels)\n",
    "                for offset in range(0, num_examples, batch_size):\n",
    "                    end = offset + batch_size\n",
    "                    batch_x, batch_y = X_train[offset:end], Y_train[offset:end]\n",
    "                    sess.run(self.training_operation, feed_dict={\n",
    "                        self.x: batch_x, \n",
    "                        self.y: batch_y, \n",
    "                        self.dropout_placeholder_conv: self.model_config.dropout_conv_keep_pct,\n",
    "                        self.dropout_placeholder_fc: self.model_config.dropout_fc_keep_pct,\n",
    "\n",
    "                    })\n",
    "\n",
    "                end_training_time = time.time()\n",
    "                training_duration = end_training_time - start\n",
    "\n",
    "                #computing training accuracy\n",
    "                training_accuracy, training_loss = self.evaluate_model(X_train_features, X_train_labels, batch_size)            \n",
    "\n",
    "\n",
    "                # Computing validation accuracy \n",
    "                validation_accuracy, validation_loss = self.evaluate_model(X_valid_features, y_valid_labels, batch_size)\n",
    "\n",
    "\n",
    "                end_epoch_time = time.time()            \n",
    "                validation_duration = end_epoch_time - end_training_time   \n",
    "                epoch_duration = end_epoch_time - start\n",
    "\n",
    "                if i == 0 or (i+1) % PRINT_FREQ == 0:\n",
    "                    print(\"[{0}]\\ttotal={1:.3f}s | train: time={2:.3f}s, loss={3:.4f}, acc={4:.4f} | val: time={5:.3f}s, loss={6:.4f}, acc={7:.4f}\".format(\n",
    "                          i+1, epoch_duration, training_duration, training_loss, training_accuracy, \n",
    "                        validation_duration, validation_loss, validation_accuracy))\n",
    "\n",
    "                training_metrics[i] = [training_duration, training_loss, training_accuracy]\n",
    "                validation_metrics[i] = [validation_duration, validation_loss, validation_accuracy]\n",
    "\n",
    "            model_file_name = \"{0}{1}.chkpt\".format(models_path, self.model_config.name)\n",
    "            # Save the model\n",
    "            self.saver.save(sess, model_file_name)\n",
    "            print(\"Model {0} saved\".format(model_file_name))\n",
    "\n",
    "        return (training_metrics, validation_metrics, epoch_duration)\n",
    "    \n",
    "    def test_model(self, test_imgs, test_lbs, batch_size=512):\n",
    "        \"\"\"\n",
    "        Evaluates the model with the test dataset and test labels\n",
    "        Returns the tuple (test_accuracy, test_loss, duration)\n",
    "        \"\"\"\n",
    "\n",
    "        with tf.Session(graph = self.graph) as sess:\n",
    "            # Never forget to re-initialise the variables\n",
    "            tf.global_variables_initializer()\n",
    "\n",
    "            \n",
    "            model_file_name = \"{0}{1}.chkpt\".format(models_path, self.model_config.name)\n",
    "            self.saver.restore(sess, model_file_name)\n",
    "\n",
    "            start = time.time()\n",
    "            (test_accuracy, test_loss) = self.evaluate_model(test_imgs, test_lbs, batch_size)\n",
    "            duration = time.time() - start\n",
    "            print(\"[{0} - Test Set]\\ttime={1:.3f}s, loss={2:.4f}, acc={3:.4f}\".format(self.model_config.name, duration, test_loss, test_accuracy))\n",
    "\n",
    "        \n",
    "        return (test_accuracy, test_loss, duration)\n",
    "    \n",
    "    def predict(self, imgs, top_5=False):\n",
    "        \"\"\"\n",
    "        Returns the predictions associated with a bunch of images\n",
    "        \"\"\"\n",
    "        preds = None\n",
    "        with tf.Session(graph = self.graph) as sess:\n",
    "            # Never forget to re-initialise the variables\n",
    "            tf.global_variables_initializer()\n",
    "\n",
    "            model_file_name = \"{0}{1}.chkpt\".format(models_path, self.model_config.name)\n",
    "            self.saver.restore(sess, model_file_name)\n",
    "            \n",
    "            if top_5:\n",
    "                preds = sess.run(self.top5_predictions, feed_dict={\n",
    "                        self.x: imgs,\n",
    "                        self.dropout_placeholder_conv: 1.0,\n",
    "                        self.dropout_placeholder_fc: 1.0\n",
    "                    })\n",
    "            else:\n",
    "                preds = sess.run(self.prediction, feed_dict={\n",
    "                    self.x: imgs,\n",
    "                    self.dropout_placeholder_conv: 1.0,\n",
    "                    self.dropout_placeholder_fc: 1.0\n",
    "                })\n",
    "    \n",
    "        return preds\n",
    "    \n",
    "    def show_conv_feature_maps(self, img, conv_layer_idx=0, activation_min=-1, activation_max=-1 ,\n",
    "                               plt_num=1, fig_size=(15, 15), title_y_pos=1.0):\n",
    "        \"\"\"\n",
    "        Shows the resulting feature maps at a given convolutional level for a SINGLE image\n",
    "        \"\"\"\n",
    "        #s = tf.train.Saver()\n",
    "        with tf.Session(graph = self.graph) as sess:\n",
    "            # Never forget to re-initialise the variables\n",
    "            tf.global_variables_initializer()\n",
    "            #tf.reset_default_graph()\n",
    "\n",
    "            model_file_name = \"{0}{1}.chkpt\".format(models_path, self.model_config.name)\n",
    "            self.saver.restore(sess, model_file_name)\n",
    "            \n",
    "            # Run a prediction\n",
    "            preds = sess.run(self.prediction, feed_dict={\n",
    "                    self.x: np.reshape(img, [1, img.shape[0], img.shape[1], img.shape[2]]),\n",
    "                    self.dropout_placeholder_conv: 1.0,\n",
    "                    self.dropout_placeholder_fc: 1.0\n",
    "                })\n",
    "\n",
    "            \n",
    "            var_name = \"{0}/conv_{1}_relu:0\".format(self.model_config.name, conv_layer_idx)\n",
    "            print(\"Fetching tensor: {0}\".format(var_name))\n",
    "            conv_layer = tf.get_default_graph().get_tensor_by_name(var_name)\n",
    "            \n",
    "            activation = sess.run(conv_layer, feed_dict={\n",
    "                            self.x: np.reshape(img, [1, img.shape[0], img.shape[1], img.shape[2]]),\n",
    "                            self.dropout_placeholder_conv: 1.0,\n",
    "                            self.dropout_placeholder_fc: 1.0\n",
    "                            })\n",
    "            featuremaps = activation.shape[-1]\n",
    "            # (1, 13, 13, 64)\n",
    "            print(\"Shape of activation layer: {0}\".format(activation.shape))\n",
    "            \n",
    "            #fix the number of columns\n",
    "            cols = 8\n",
    "            rows = featuremaps // cols\n",
    "            fig, axes = plt.subplots(rows, cols, figsize=fig_size)\n",
    "            k = 0\n",
    "            for i in range(0, rows):\n",
    "                for j in range(0, cols):\n",
    "                    ax = axes[i, j]\n",
    "                    featuremap = k\n",
    "\n",
    "                    if activation_min != -1 & activation_max != -1:\n",
    "                        ax.imshow(activation[0,:,:, featuremap], interpolation=\"nearest\", vmin =activation_min, vmax=activation_max, cmap=\"gray\")\n",
    "                    elif activation_max != -1:\n",
    "                        ax.imshow(activation[0,:,:, featuremap], interpolation=\"nearest\", vmax=activation_max, cmap=\"gray\")\n",
    "                    elif activation_min !=-1:\n",
    "                        ax.imshow(activation[0,:,:, featuremap], interpolation=\"nearest\", vmin=activation_min, cmap=\"gray\")\n",
    "                    else:\n",
    "                        ax.imshow(activation[0,:,:, featuremap], interpolation=\"nearest\", cmap=\"gray\")\n",
    "                    \n",
    "                    ax.axis(\"off\")\n",
    "                    k += 1\n",
    "            \n",
    "            fig.suptitle(\"Feature Maps at layer: {0}\".format(conv_layer), fontsize=12, fontweight='bold', y=title_y_pos)\n",
    "            fig.tight_layout()\n",
    "            plt.show()"
   ]
  },
  {
   "cell_type": "markdown",
   "metadata": {},
   "source": [
    "#### EdLeNet\n",
    "We implement simple variant LeNet by Yann Le Cun, comically named EdLeNet. We make the network highly configurable so that we can assess its different variants and determine which one provides the most accuracy."
   ]
  },
  {
   "cell_type": "code",
   "execution_count": 34,
   "metadata": {},
   "outputs": [],
   "source": [
    "from tensorflow.keras.layers import Flatten\n",
    "# import tensorflow.compat.v1 as tf\n",
    "# tf.disable_v2_behavior()\n",
    "#tf.keras.layers.Flatten"
   ]
  },
  {
   "cell_type": "code",
   "execution_count": 35,
   "metadata": {},
   "outputs": [],
   "source": [
    "def EdLeNet(x, mc, dropout_conv_pct, dropout_fc_pct):\n",
    "    \"\"\"\n",
    "    A variant of LeNet created by Yann Le Cun\n",
    "    The second parameter, which is encapsulates model configuration, enables varying the convolution filter sizes \n",
    "    as well as the number of fully connected layers and their output dimensions.\n",
    "    The third and fourth parameters represent dropout placeholders for convolutional and fully connected layers respectively\n",
    "    \"\"\"\n",
    "    \n",
    "    # Used for randomly definining weights and biases\n",
    "    mu = 0\n",
    "    sigma = 0.1\n",
    "    \n",
    "    prev_conv_layer = x\n",
    "    conv_depth = mc.conv_depth_start\n",
    "    conv_input_depth = mc.input_img_dimensions[-1]\n",
    "   \n",
    "    print(\"[EdLeNet] Building neural network [conv layers={0}, conv filter size={1}, conv start depth={2}, fc layers={3}]\".format(\n",
    "        mc.conv_layers_count, mc.conv_filter_size, conv_depth, len(mc.fc_output_dims)))\n",
    "    \n",
    "    for i in range(0, mc.conv_layers_count):\n",
    "        # layer depth grows exponentially\n",
    "        conv_output_depth = conv_depth * (2 ** (i))\n",
    "        conv_W = tf.Variable(tf.compat.v1.random.truncated_normal(shape=(mc.conv_filter_size, mc.conv_filter_size, conv_input_depth, conv_output_depth), \n",
    "                                              mean = mu, stddev = sigma))\n",
    "        conv_b = tf.Variable(tf.zeros(conv_output_depth))\n",
    "        \n",
    "        conv_output = tf.nn.conv2d(prev_conv_layer, conv_W, strides=[1, 1, 1, 1], padding='VALID', name=\"conv_{0}\".format(i)) + conv_b\n",
    "        conv_output = tf.nn.relu(conv_output, name=\"conv_{0}_relu\".format(i))\n",
    "        # Traditional max 2x2 pool \n",
    "        conv_output = tf.nn.max_pool(conv_output, ksize=[1, 2, 2, 1], strides=[1, 2, 2, 1], padding='VALID')\n",
    "        # Apply dropout - even at the conv level\n",
    "        conv_output = tf.nn.dropout(conv_output, dropout_conv_pct) \n",
    "        \n",
    "        # Setting our loop variables accordingly\n",
    "        prev_conv_layer = conv_output\n",
    "        conv_input_depth = conv_output_depth\n",
    "\n",
    "    \n",
    "    # Flatten results of second convolutional layer so that it can be supplied to fully connected layer\n",
    "    fc0   = tf.keras.layers.Flatten()(prev_conv_layer)\n",
    "    \n",
    "    # Now creating our fully connected layers\n",
    "    prev_layer = fc0\n",
    "    for output_dim in mc.fc_output_dims:\n",
    "        fcn_W  = tf.Variable(tf.compat.v1.random.truncated_normal(shape=(prev_layer.get_shape().as_list()[-1], output_dim), \n",
    "                                                 mean = mu, stddev = sigma))\n",
    "        fcn_b  = tf.Variable(tf.zeros(output_dim))\n",
    "        \n",
    "        prev_layer   = tf.nn.dropout(tf.nn.relu(tf.matmul(prev_layer, fcn_W) + fcn_b), dropout_fc_pct)\n",
    "\n",
    "    \n",
    "    # Final layer (Fully Connected)\n",
    "    fc_final_W  = tf.Variable(tf.compat.v1.random.truncated_normal(shape=(prev_layer.get_shape().as_list()[-1], mc.output_classes), \n",
    "                                                  mean = mu, stddev = sigma))\n",
    "    fc_final_b  = tf.Variable(tf.zeros(mc.output_classes))\n",
    "    logits = tf.matmul(prev_layer, fc_final_W) + fc_final_b\n",
    "    \n",
    "    return logits"
   ]
  },
  {
   "cell_type": "markdown",
   "metadata": {},
   "source": [
    "## Train, Validate and Test the Model\n",
    "### Non-Normalised Images\n",
    "Let's begin with color and grayscale non-normalised images, changing the feature size\n",
    "\n",
    "#### Color Sample Set"
   ]
  },
  {
   "cell_type": "code",
   "execution_count": 36,
   "metadata": {},
   "outputs": [],
   "source": [
    "mc_3x3 = ModelConfig(EdLeNet, \"EdLeNet_3x3_Color_Sample\", [32, 32, 3], [3, 16, 3], [120, 84], n_classes, [1.0, 1.0])\n",
    "mc_5x5 = ModelConfig(EdLeNet, \"EdLeNet_5x5_Color_Sample\", [32, 32, 3], [5, 16, 2], [120, 84], n_classes, [1.0, 1.0])\n",
    "mc_7x7 = ModelConfig(EdLeNet, \"EdLeNet_7x7_Color_Sample\", [32, 32, 3], [7, 16, 2], [120, 84], n_classes, [1.0, 1.0])"
   ]
  },
  {
   "cell_type": "code",
   "execution_count": 38,
   "metadata": {},
   "outputs": [
    {
     "name": "stdout",
     "output_type": "stream",
     "text": [
      "[EdLeNet] Building neural network [conv layers=3, conv filter size=3, conv start depth=16, fc layers=2]\n",
      "WARNING:tensorflow:From <ipython-input-36-1b588262855c>:32: calling dropout (from tensorflow.python.ops.nn_ops) with keep_prob is deprecated and will be removed in a future version.\n",
      "Instructions for updating:\n",
      "Please use `rate` instead of `keep_prob`. Rate should be set to `rate = 1 - keep_prob`.\n",
      "WARNING:tensorflow:From <ipython-input-34-6e957e3ab1ec>:49: softmax_cross_entropy_with_logits (from tensorflow.python.ops.nn_ops) is deprecated and will be removed in a future version.\n",
      "Instructions for updating:\n",
      "\n",
      "Future major versions of TensorFlow will allow gradients to flow\n",
      "into the labels input on backprop by default.\n",
      "\n",
      "See `tf.nn.softmax_cross_entropy_with_logits_v2`.\n",
      "\n",
      "[EdLeNet] Building neural network [conv layers=2, conv filter size=5, conv start depth=16, fc layers=2]\n",
      "[EdLeNet] Building neural network [conv layers=2, conv filter size=7, conv start depth=16, fc layers=2]\n"
     ]
    }
   ],
   "source": [
    "me_c_sample_3x3 = ModelExecutor(mc_3x3)\n",
    "me_c_sample_5x5 = ModelExecutor(mc_5x5)\n",
    "me_c_sample_7x7 = ModelExecutor(mc_7x7)"
   ]
  },
  {
   "cell_type": "code",
   "execution_count": 39,
   "metadata": {},
   "outputs": [
    {
     "name": "stdout",
     "output_type": "stream",
     "text": [
      "Device mapping:\n",
      "\n",
      "Training EdLeNet_3x3_Color_Sample [epochs=50, batch_size=512]...\n",
      "\n",
      "[1]\ttotal=41.193s | train: time=21.620s, loss=3.5198, acc=0.1207 | val: time=19.573s, loss=3.5849, acc=0.1212\n",
      "[10]\ttotal=32.781s | train: time=17.547s, loss=0.4065, acc=0.8941 | val: time=15.234s, loss=1.2658, acc=0.7204\n",
      "[20]\ttotal=33.500s | train: time=18.422s, loss=0.0737, acc=0.9840 | val: time=15.078s, loss=1.3761, acc=0.7975\n",
      "[30]\ttotal=35.422s | train: time=20.313s, loss=0.0212, acc=0.9974 | val: time=15.109s, loss=1.5490, acc=0.8171\n",
      "[40]\ttotal=32.344s | train: time=17.656s, loss=0.0081, acc=0.9996 | val: time=14.687s, loss=1.5444, acc=0.8283\n",
      "[50]\ttotal=33.000s | train: time=17.672s, loss=0.0028, acc=1.0000 | val: time=15.328s, loss=1.7958, acc=0.8339\n",
      "Model ./models/EdLeNet_3x3_Color_Sample.chkpt saved\n",
      "INFO:tensorflow:Restoring parameters from ./models/EdLeNet_3x3_Color_Sample.chkpt\n",
      "[EdLeNet_3x3_Color_Sample - Test Set]\ttime=15.842s, loss=1.5750, acc=0.8502\n"
     ]
    }
   ],
   "source": [
    "(c_sample_3x3_tr_metrics, c_sample_3x3_val_metrics, c_sample_3x3_duration) = me_c_sample_3x3.train_model(X_sample_train, y_sample_train, X_sample_valid, y_sample_valid, epochs=50)\n",
    "(c_sample_3x3_ts_accuracy, c_sample_3x3_ts_loss, c_sample_3x3_ts_duration) =  me_c_sample_3x3.test_model(X_test, y_test)"
   ]
  },
  {
   "cell_type": "code",
   "execution_count": null,
   "metadata": {},
   "outputs": [],
   "source": [
    "(c_sample_5x5_tr_metrics, c_sample_5x5_val_metrics, c_sample_5x5_duration) = me_c_sample_5x5.train_model(X_sample_train, y_sample_train, X_sample_valid, y_sample_valid, epochs=50)\n",
    "(c_sample_5x5_ts_accuracy, c_sample_5x5_ts_loss, c_sample_5x5_ts_duration) =  me_c_sample_5x5.test_model(X_test, y_test)"
   ]
  },
  {
   "cell_type": "code",
   "execution_count": null,
   "metadata": {},
   "outputs": [],
   "source": [
    "(c_sample_7x7_tr_metrics, c_sample_7x7_val_metrics, c_sample_7x7_duration) = me_c_sample_7x7.train_model(X_sample_train, y_sample_train, X_sample_valid, y_sample_valid, epochs=50)\n",
    "(c_sample_7x7_ts_accuracy, c_sample_7x7_ts_loss, c_sample_7x7_ts_duration) =  me_c_sample_7x7.test_model(X_test, y_test)"
   ]
  },
  {
   "cell_type": "markdown",
   "metadata": {},
   "source": [
    "The 3x3 model has much lower loss than the other two on the validation and test sets. We may be tempted to exclusively focus on it, but instead we will run the 3x3 and 5x5 models side by side, as the 7x7 one seems to produce the worst results."
   ]
  },
  {
   "cell_type": "code",
   "execution_count": null,
   "metadata": {},
   "outputs": [],
   "source": [
    "metrics_arr = [c_sample_7x7_tr_metrics, c_sample_7x7_val_metrics, c_sample_5x5_tr_metrics, c_sample_5x5_val_metrics, c_sample_3x3_tr_metrics, c_sample_3x3_val_metrics]\n",
    "lbs = [\"7x7 training\", \"7x7 validation\", \"5x5 training\", \"7x7 validation\", \"3x3 training\", \"3x3 validation\"]\n",
    "plot_model_results(metrics_arr, [2, 1], lbs, [\"Epochs\", \"Epochs\"], [\"Accuracy\", \"Loss\"], \n",
    "                   [\"Accuracy vs Epochs\", \n",
    "                    \"Loss vs Epochs\"],\n",
    "                   \"Color  - Accuracy and Loss of models on sample set\"\n",
    "                    , fig_size=(17, 5))"
   ]
  },
  {
   "cell_type": "markdown",
   "metadata": {},
   "source": [
    "#### Color Full Dataset\n",
    "We now run the 3x3 and 5x5 models on the full color dataset. We also took the liberty to increase the depth of our convolutional layers as we have observed better information starting at 32, rather than 16."
   ]
  },
  {
   "cell_type": "code",
   "execution_count": null,
   "metadata": {},
   "outputs": [],
   "source": [
    "mc_3x3 = ModelConfig(EdLeNet, \"EdLeNet_Full_Color_3x3\", [32, 32, 3], [3, 32, 3], [120, 84], n_classes, [1.0, 1.0])\n",
    "mc_5x5 = ModelConfig(EdLeNet, \"EdLeNet_Full_Color_5x5\", [32, 32, 3], [5, 32, 2], [120, 84], n_classes, [1.0, 1.0])"
   ]
  },
  {
   "cell_type": "code",
   "execution_count": null,
   "metadata": {},
   "outputs": [],
   "source": [
    "me_c_3x3 = ModelExecutor(mc_3x3)\n",
    "me_c_5x5 = ModelExecutor(mc_5x5)"
   ]
  },
  {
   "cell_type": "code",
   "execution_count": null,
   "metadata": {},
   "outputs": [],
   "source": [
    "(c_3x3_tr_metrics, c_3x3_val_metrics, c_3x3_duration) = me_c_3x3.train_model(X_train, y_train, X_valid, y_valid, epochs=100)\n",
    "(c_3x3_ts_accuracy, c_3x3_ts_loss, c_3x3_ts_duration) =  me_c_3x3.test_model(X_test, y_test)"
   ]
  },
  {
   "cell_type": "code",
   "execution_count": null,
   "metadata": {},
   "outputs": [],
   "source": [
    "(c_5x5_tr_metrics, c_5x5_val_metrics, c_5x5_duration) = me_c_5x5.train_model(X_train, y_train, X_valid, y_valid, epochs=100)\n",
    "(c_5x5_ts_accuracy, c_5x5_ts_loss, c_5x5_ts_duration) =  me_c_5x5.test_model(X_test, y_test)"
   ]
  },
  {
   "cell_type": "code",
   "execution_count": null,
   "metadata": {},
   "outputs": [],
   "source": [
    "metrics_arr = [c_5x5_tr_metrics, c_5x5_val_metrics, c_3x3_tr_metrics, c_3x3_val_metrics]\n",
    "lbs = [\"5x5 training\", \"5x5 validation\", \"3x3 training\", \"3x3 validation\"]\n",
    "plot_model_results(metrics_arr, [2, 1], lbs, [\"Epochs\", \"Epochs\"], [\"Accuracy\", \"Loss\"], \n",
    "                   [\"Accuracy vs Epochs\", \n",
    "                    \"Loss vs Epochs\"],\n",
    "                   \"Color  - Accuracy and Loss of models\"\n",
    "                    , fig_size=(17, 5))"
   ]
  },
  {
   "cell_type": "markdown",
   "metadata": {},
   "source": [
    "Interesting, the 5x5 model is the one that shows the most overfit, and produces significantly higher losses than the 3x3 model, which manages to approach 93% accuracy on both validation and test sets, while not quite getting there. This could be due to the fact that we have a deeper network that uses less coarse convolutions and therefore is able to extract more features. We are next going to test the model on grayscale images.\n",
    "\n",
    "### Grayscale Full Dataset"
   ]
  },
  {
   "cell_type": "code",
   "execution_count": null,
   "metadata": {},
   "outputs": [],
   "source": [
    "# Reshaping our inputs to a format that tensorflow accepts (i.e. a 4D tensor)\n",
    "X_train_grayscale = np.reshape(X_train_grayscale, (X_train_grayscale.shape[0], 32, 32, 1))\n",
    "X_valid_grayscale = np.reshape(X_valid_grayscale, (X_valid_grayscale.shape[0], 32, 32, 1))\n",
    "X_test_grayscale = np.reshape(X_test_grayscale, (X_test_grayscale.shape[0], 32, 32, 1))"
   ]
  },
  {
   "cell_type": "code",
   "execution_count": null,
   "metadata": {},
   "outputs": [],
   "source": [
    "mc_3x3 = ModelConfig(EdLeNet, \"EdLeNet_Grayscale_3x3\", [32, 32, 1], [3, 32, 3], [120, 84], n_classes, [1.0, 1.0])\n",
    "mc_5x5 = ModelConfig(EdLeNet, \"EdLeNet_Grayscale_5x5\", [32, 32, 1], [5, 32, 2], [120, 84], n_classes, [1.0, 1.0])"
   ]
  },
  {
   "cell_type": "code",
   "execution_count": null,
   "metadata": {},
   "outputs": [],
   "source": [
    "me_g_3x3 = ModelExecutor(mc_3x3)\n",
    "me_g_5x5 = ModelExecutor(mc_5x5)"
   ]
  },
  {
   "cell_type": "code",
   "execution_count": null,
   "metadata": {},
   "outputs": [],
   "source": [
    "(g_3x3_tr_metrics, g_3x3_val_metrics, g_3x3_duration) = me_g_3x3.train_model(X_train_grayscale, y_train, X_valid_grayscale, y_valid, epochs=100)\n",
    "(g_3x3_ts_accuracy, g_3x3_ts_loss, g_3x3_ts_duration) =  me_g_3x3.test_model(X_test_grayscale, y_test)"
   ]
  },
  {
   "cell_type": "code",
   "execution_count": null,
   "metadata": {},
   "outputs": [],
   "source": [
    "(g_5x5_tr_metrics, g_5x5_val_metrics, g_5x5_duration) = me_g_5x5.train_model(X_train_grayscale, y_train, X_valid_grayscale, y_valid, epochs=100)\n",
    "(g_5x5_ts_accuracy, g_5x5_ts_loss, g_5x5_ts_duration) =  me_g_5x5.test_model(X_test_grayscale, y_test)"
   ]
  },
  {
   "cell_type": "code",
   "execution_count": null,
   "metadata": {},
   "outputs": [],
   "source": [
    "metrics_arr = [g_5x5_tr_metrics, g_5x5_val_metrics, g_3x3_tr_metrics, g_3x3_val_metrics]\n",
    "lbs = [\"5x5 training\", \"5x5 validation\", \"3x3 training\", \"3x3 validation\"]\n",
    "plot_model_results(metrics_arr, [2, 1], lbs, [\"Epochs\", \"Epochs\"], [\"Accuracy\", \"Loss\"], \n",
    "                   [\"Accuracy vs Epochs\", \n",
    "                    \"Loss vs Epochs\"],\n",
    "                   \"Grayscale  - Accuracy and Loss of models\"\n",
    "                    , fig_size=(17, 5))"
   ]
  },
  {
   "cell_type": "markdown",
   "metadata": {},
   "source": [
    "Once again, the 3x3 model outperforms the 5x5 one on validation and test accuracy. We can see that both models' validation losses are increasing as the training accuracy improves. This is a strong suggestion that overfitting is occuring.\n",
    "\n",
    "## Normalised Images\n",
    "We now assess the model on normnalised images, which should presumably allow faster convergence on both training and validation sets.\n",
    "\n",
    "### Color"
   ]
  },
  {
   "cell_type": "code",
   "execution_count": 37,
   "metadata": {},
   "outputs": [],
   "source": [
    "mc_3x3 = ModelConfig(EdLeNet, \"EdLeNet_Color_Norm_3x3\", [32, 32, 3], [3, 32, 3], [120, 84], n_classes, [1.0, 1.0])\n",
    "mc_5x5 = ModelConfig(EdLeNet, \"EdLeNet_Color_Norm_5x5\", [32, 32, 3], [5, 32, 2], [120, 84], n_classes, [1.0, 1.0])"
   ]
  },
  {
   "cell_type": "code",
   "execution_count": 38,
   "metadata": {},
   "outputs": [
    {
     "name": "stdout",
     "output_type": "stream",
     "text": [
      "[EdLeNet] Building neural network [conv layers=3, conv filter size=3, conv start depth=32, fc layers=2]\n",
      "WARNING:tensorflow:From <ipython-input-35-1b588262855c>:32: calling dropout (from tensorflow.python.ops.nn_ops) with keep_prob is deprecated and will be removed in a future version.\n",
      "Instructions for updating:\n",
      "Please use `rate` instead of `keep_prob`. Rate should be set to `rate = 1 - keep_prob`.\n",
      "WARNING:tensorflow:From <ipython-input-33-6e957e3ab1ec>:49: softmax_cross_entropy_with_logits (from tensorflow.python.ops.nn_ops) is deprecated and will be removed in a future version.\n",
      "Instructions for updating:\n",
      "\n",
      "Future major versions of TensorFlow will allow gradients to flow\n",
      "into the labels input on backprop by default.\n",
      "\n",
      "See `tf.nn.softmax_cross_entropy_with_logits_v2`.\n",
      "\n",
      "[EdLeNet] Building neural network [conv layers=2, conv filter size=5, conv start depth=32, fc layers=2]\n"
     ]
    }
   ],
   "source": [
    "me_c_norm_3x3 = ModelExecutor(mc_3x3)\n",
    "me_c_norm_5x5 = ModelExecutor(mc_5x5)"
   ]
  },
  {
   "cell_type": "code",
   "execution_count": null,
   "metadata": {},
   "outputs": [],
   "source": [
    "(c_norm_3x3_tr_metrics, c_norm_3x3_val_metrics, c_norm_3x3_duration) = me_c_norm_3x3.train_model(X_train_normalised, y_train, X_valid_normalised, y_valid, epochs=100)\n",
    "(c_norm_3x3_ts_accuracy, c_norm_3x3_ts_loss, c_norm_3x3_ts_duration) =  me_c_norm_3x3.test_model(X_test_normalised, y_test)"
   ]
  },
  {
   "cell_type": "code",
   "execution_count": null,
   "metadata": {},
   "outputs": [],
   "source": [
    "(c_norm_5x5_tr_metrics, c_norm_5x5_val_metrics, c_norm_5x5_duration) = me_c_norm_5x5.train_model(X_train_normalised, y_train, X_valid_normalised, y_valid, epochs=100)\n",
    "(c_norm_5x5_ts_accuracy, c_norm_5x5_ts_loss, c_norm_5x5_ts_duration) =  me_c_norm_5x5.test_model(X_test_normalised, y_test)"
   ]
  },
  {
   "cell_type": "code",
   "execution_count": null,
   "metadata": {},
   "outputs": [],
   "source": [
    "metrics_arr = [c_norm_5x5_tr_metrics, c_norm_5x5_val_metrics, c_norm_3x3_tr_metrics, c_norm_3x3_val_metrics]\n",
    "lbs = [\"5x5 training\", \"5x5 validation\", \"3x3 training\", \"3x3 validation\"]\n",
    "plot_model_results(metrics_arr, [2, 1], lbs, [\"Epochs\", \"Epochs\"], [\"Accuracy\", \"Loss\"], \n",
    "                   [\"Accuracy vs Epochs\", \n",
    "                    \"Loss vs Epochs\"],\n",
    "                   \"Color (Normalised)  - Accuracy and Loss of models\"\n",
    "                    , fig_size=(17, 5))"
   ]
  },
  {
   "cell_type": "markdown",
   "metadata": {},
   "source": [
    "Interesting, this time the roles are reversed: the 3x3 is performing worse on test and validation sets. I don't have a clear explanation, apart from overfitting happening much more quickly with the 3x3 model. We turn next to grayscale normalised images.\n",
    "\n",
    "### Grayscale"
   ]
  },
  {
   "cell_type": "code",
   "execution_count": null,
   "metadata": {},
   "outputs": [],
   "source": [
    "# Normalise grayscale images too\n",
    "X_train_grayscale_normalised = normalise_images(X_train_grayscale, X_train_grayscale)\n",
    "X_valid_grayscale_normalised = normalise_images(X_valid_grayscale, X_train_grayscale)\n",
    "X_test_grayscale_normalised = normalise_images(X_test_grayscale, X_train_grayscale)"
   ]
  },
  {
   "cell_type": "code",
   "execution_count": null,
   "metadata": {},
   "outputs": [],
   "source": [
    "mc_3x3 = ModelConfig(EdLeNet, \"EdLeNet_Grayscale_Norm_3x3\", [32, 32, 1], [3, 32, 3], [120, 84], n_classes, [1.0, 1.0])\n",
    "mc_5x5 = ModelConfig(EdLeNet, \"EdLeNet_Grayscale_Norm_5x5\", [32, 32, 1], [5, 32, 2], [120, 84], n_classes, [1.0, 1.0])"
   ]
  },
  {
   "cell_type": "code",
   "execution_count": null,
   "metadata": {},
   "outputs": [],
   "source": [
    "me_g_norm_3x3 = ModelExecutor(mc_3x3)\n",
    "me_g_norm_5x5 = ModelExecutor(mc_5x5)"
   ]
  },
  {
   "cell_type": "code",
   "execution_count": null,
   "metadata": {},
   "outputs": [],
   "source": [
    "(g_norm_3x3_tr_metrics, g_norm_3x3_val_metrics, g_norm_3x3_duration) = me_g_norm_3x3.train_model(X_train_grayscale_normalised, y_train, X_valid_grayscale_normalised, y_valid, epochs=100)\n",
    "(g_norm_3x3_ts_accuracy, g_norm_3x3_ts_loss, g_norm_3x3_ts_duration) =  me_g_norm_3x3.test_model(X_test_grayscale_normalised, y_test)"
   ]
  },
  {
   "cell_type": "code",
   "execution_count": null,
   "metadata": {},
   "outputs": [],
   "source": [
    "(g_norm_5x5_tr_metrics, g_norm_5x5_val_metrics, g_norm_5x5_duration) = me_g_norm_5x5.train_model(X_train_grayscale_normalised, y_train, X_valid_grayscale_normalised, y_valid, epochs=100)\n",
    "(g_norm_5x5_ts_accuracy, g_norm_5x5_ts_loss, g_norm_5x5_ts_duration) =  me_g_norm_5x5.test_model(X_test_grayscale_normalised, y_test)"
   ]
  },
  {
   "cell_type": "code",
   "execution_count": null,
   "metadata": {},
   "outputs": [],
   "source": [
    "metrics_arr = [g_norm_5x5_tr_metrics, g_norm_5x5_val_metrics, g_norm_3x3_tr_metrics, g_norm_3x3_val_metrics]\n",
    "lbs = [\"5x5 training\", \"5x5 validation\", \"3x3 training\", \"3x3 validation\"]\n",
    "plot_model_results(metrics_arr, [2, 1], lbs, [\"Epochs\", \"Epochs\"], [\"Accuracy\", \"Loss\"], \n",
    "                   [\"Accuracy vs Epochs\", \n",
    "                    \"Loss vs Epochs\"],\n",
    "                   \"Grayscale (Normalised)  - Accuracy and Loss of models\"\n",
    "                    , fig_size=(17, 5))"
   ]
  },
  {
   "cell_type": "markdown",
   "metadata": {},
   "source": [
    "The 3x3 nodel shows more erratic behaviour, which is hard to explain at this stage. Overall, it performs slighty better. Sadly none of the 2 model reach 93% test accuracy. It is time to set our eyes on dropout.\n",
    "\n",
    "## Dropout - Keep 75% of weights in Fully Connected Layers\n",
    "Let's start with a keep percentage of 75% to see what kind of results we get... We will also keep weights in the convolutional layers with a probability of 90%.\n",
    "\n",
    "### Color (Normalised)"
   ]
  },
  {
   "cell_type": "code",
   "execution_count": null,
   "metadata": {},
   "outputs": [],
   "source": [
    "mc_3x3 = ModelConfig(EdLeNet, \"EdLeNet_3x3_Color_Dropout_0.75\", [32, 32, 3], [3, 32, 3], [120, 84], n_classes, [0.9, 0.75])\n",
    "mc_5x5 = ModelConfig(EdLeNet, \"EdLeNet_3x3_Color_Dropout_0.75\", [32, 32, 3], [5, 32, 2], [120, 84], n_classes, [0.9, 0.75])"
   ]
  },
  {
   "cell_type": "code",
   "execution_count": null,
   "metadata": {},
   "outputs": [],
   "source": [
    "me_c_norm_drpt_0_75_3x3 = ModelExecutor(mc_3x3)\n",
    "me_c_norm_drpt_0_75_5x5 = ModelExecutor(mc_5x5)"
   ]
  },
  {
   "cell_type": "code",
   "execution_count": null,
   "metadata": {},
   "outputs": [],
   "source": [
    "(c_norm_drpt_0_75_3x3_tr_metrics, c_norm_drpt_0_75_3x3_val_metrics, c_norm_drpt_0_75_3x3_duration) = me_c_norm_drpt_0_75_3x3.train_model(X_train_normalised, y_train, X_valid_normalised, y_valid, epochs=100)\n",
    "(_c_norm_drpt_0_75_3x3_ts_accuracy, c_norm_drpt_0_75_3x3_ts_loss, c_norm_drpt_0_75_ts_duration) =  me_c_norm_drpt_0_75_3x3.test_model(X_test_normalised, y_test)"
   ]
  },
  {
   "cell_type": "code",
   "execution_count": null,
   "metadata": {},
   "outputs": [],
   "source": [
    "(c_norm_drpt_0_75_5x5_tr_metrics, c_norm_drpt_0_75_5x5_val_metrics, c_norm_drpt_0_75_5x5_duration) = me_c_norm_drpt_0_75_5x5.train_model(X_train_normalised, y_train, X_valid_normalised, y_valid, epochs=100)\n",
    "(c_norm_drpt_0_75_5x5_ts_accuracy, c_norm_drpt_0_75_5x5_ts_loss, c_norm_drpt_0_75_5x5_ts_duration) =  me_c_norm_drpt_0_75_5x5.test_model(X_test_normalised, y_test)"
   ]
  },
  {
   "cell_type": "code",
   "execution_count": null,
   "metadata": {},
   "outputs": [],
   "source": [
    "metrics_arr = [c_norm_drpt_0_75_5x5_tr_metrics, c_norm_drpt_0_75_5x5_val_metrics, c_norm_drpt_0_75_3x3_tr_metrics, c_norm_drpt_0_75_3x3_val_metrics]\n",
    "lbs = [\"5x5 training\", \"5x5 validation\", \"3x3 training\", \"3x3 validation\"]\n",
    "plot_model_results(metrics_arr, [2, 1], lbs, [\"Epochs\", \"Epochs\"], [\"Accuracy\", \"Loss\"], \n",
    "                   [\"Accuracy vs Epochs\", \n",
    "                    \"Loss vs Epochs\"],\n",
    "                   \"Color (Normalised) - Accuracy and Loss of models with dropout (p-conv=0.9, p-fc=0.75)\"\n",
    "                    , fig_size=(17, 5))"
   ]
  },
  {
   "cell_type": "markdown",
   "metadata": {},
   "source": [
    "We are seeing some gret results with the introduction of dropout. The 5x5 model achieves above 96% accuracy while the 3x3 model achieves over 97% test accuracy. We should get similar, if not better results, with grayscale images.\n",
    "\n",
    "### Grayscale (Normalised)"
   ]
  },
  {
   "cell_type": "code",
   "execution_count": null,
   "metadata": {},
   "outputs": [],
   "source": [
    "mc_3x3 = ModelConfig(EdLeNet, \"EdLeNet_Grayscale_Norm_3x3_Dropout_0.75\", [32, 32, 1], [3, 32, 3], [120, 84], n_classes, [0.9, 0.75])\n",
    "mc_5x5 = ModelConfig(EdLeNet, \"EdLeNet_Grayscale_Norm_5x5_Dropout_0.75\", [32, 32, 1], [5, 32, 2], [120, 84], n_classes, [0.9, 0.75])"
   ]
  },
  {
   "cell_type": "code",
   "execution_count": null,
   "metadata": {},
   "outputs": [],
   "source": [
    "me_g_norm_drpt_0_75_3x3 = ModelExecutor(mc_3x3)\n",
    "me_g_norm_drpt_0_75_5x5 = ModelExecutor(mc_5x5)"
   ]
  },
  {
   "cell_type": "code",
   "execution_count": null,
   "metadata": {},
   "outputs": [],
   "source": [
    "(g_norm_drpt_0_75_3x3_tr_metrics, g_norm_drpt_0_75_3x3_val_metrics, g_norm_drpt_0_75_3x3_duration) = me_g_norm_drpt_0_75_3x3.train_model(X_train_grayscale_normalised, y_train, X_valid_grayscale_normalised, y_valid, epochs=100)\n",
    "(g_norm_drpt_0_75_3x3_ts_accuracy, g_norm_drpt_0_75_3x3_ts_loss, g_norm_drpt_0_75_ts_3x3_duration) =  me_g_norm_drpt_0_75_3x3.test_model(X_test_grayscale_normalised, y_test)"
   ]
  },
  {
   "cell_type": "code",
   "execution_count": null,
   "metadata": {},
   "outputs": [],
   "source": [
    "(g_norm_drpt_0_75_5x5_tr_metrics, g_norm_drpt_0_75_5x5_val_metrics, g_norm_drpt_0_75_5x5_duration) = me_g_norm_drpt_0_75_5x5.train_model(X_train_grayscale_normalised, y_train, X_valid_grayscale_normalised, y_valid, epochs=100)\n",
    "(g_norm_drpt_0_75_5x5_ts_accuracy, g_norm_drpt_0_75_5x5_ts_loss, g_norm_drpt_0_75_ts_5x5_duration) =  me_g_norm_drpt_0_75_5x5.test_model(X_test_grayscale_normalised, y_test)"
   ]
  },
  {
   "cell_type": "code",
   "execution_count": null,
   "metadata": {},
   "outputs": [],
   "source": [
    "metrics_arr = [g_norm_drpt_0_75_5x5_tr_metrics, g_norm_drpt_0_75_5x5_val_metrics, g_norm_drpt_0_75_3x3_tr_metrics, g_norm_drpt_0_75_3x3_val_metrics]\n",
    "lbs = [\"5x5 training\", \"5x5 validation\", \"3x3 training\", \"3x3 validation \"]\n",
    "plot_model_results(metrics_arr, [2, 1], lbs, [\"Epochs\", \"Epochs\"], [\"Accuracy\", \"Loss\"], \n",
    "                   [\"Accuracy vs Epochs\", \n",
    "                    \"Loss vs Epochs\"],\n",
    "                   \"Grayscale (Normalised) - Accuracy and Loss of models with dropout (p-conv=0.9, p-fc=0.75)\"\n",
    "                    , fig_size=(17, 5))"
   ]
  },
  {
   "cell_type": "markdown",
   "metadata": {},
   "source": [
    "Once again, both 3x3 and 5x5 variants are very close, accuracy-wise on all dataset types. Interestingly, the 3x3 model achieves lower loss but also lower accuracy than its counterpart 3x3 model on color images. We should do more runs of those models to determine which one performs better over the long run in the future. But We believe that we don't need to go that far: we can use even more aggressive dropout values to obtain better results.\n",
    "\n",
    "## Dropout - Keep Fully Connected Weights with a 50% probability\n",
    "### Grayscale"
   ]
  },
  {
   "cell_type": "code",
   "execution_count": null,
   "metadata": {},
   "outputs": [],
   "source": [
    "mc_3x3 = ModelConfig(EdLeNet, \"EdLeNet_Norm_Grayscale_3x3_Dropout_0.50\", [32, 32, 1], [3, 32, 3], [120, 84], n_classes, [0.75, 0.5])\n",
    "mc_5x5 = ModelConfig(EdLeNet, \"EdLeNet_Norm_Grayscale_5x5_Dropout_0.50\", [32, 32, 1], [5, 32, 2], [120, 84], n_classes, [0.75, 0.5])"
   ]
  },
  {
   "cell_type": "code",
   "execution_count": null,
   "metadata": {},
   "outputs": [],
   "source": [
    "me_g_norm_drpt_0_50_3x3 = ModelExecutor(mc_3x3)\n",
    "me_g_norm_drpt_0_50_5x5 = ModelExecutor(mc_5x5)"
   ]
  },
  {
   "cell_type": "code",
   "execution_count": null,
   "metadata": {},
   "outputs": [],
   "source": [
    "(g_norm_drpt_0_50_3x3_tr_metrics, g_norm_drpt_0_50_3x3_val_metrics, g_norm_drpt_0_50_3x3_duration) = me_g_norm_drpt_0_50_3x3.train_model(X_train_grayscale_normalised, y_train, X_valid_grayscale_normalised, y_valid, epochs=100)\n",
    "(g_norm_drpt_0_50_3x3_ts_accuracy, g_norm_drpt_0_50_3x3_ts_loss, g_norm_drpt_0_50_ts_3x3_duration) =  me_g_norm_drpt_0_50_3x3.test_model(X_test_grayscale_normalised, y_test)"
   ]
  },
  {
   "cell_type": "code",
   "execution_count": null,
   "metadata": {},
   "outputs": [],
   "source": [
    "(g_norm_drpt_0_50_5x5_tr_metrics, g_norm_drpt_0_50_5x5_val_metrics, g_norm_drpt_0_50_5x5_duration) = me_g_norm_drpt_0_50_5x5.train_model(X_train_grayscale_normalised, y_train, X_valid_grayscale_normalised, y_valid, epochs=100)\n",
    "(g_norm_drpt_0_50_5x5_ts_accuracy, g_norm_drpt_0_50_5x5_ts_loss, g_norm_drpt_0_50_ts_5x5_duration) =  me_g_norm_drpt_0_50_5x5.test_model(X_test_grayscale_normalised, y_test)"
   ]
  },
  {
   "cell_type": "code",
   "execution_count": null,
   "metadata": {},
   "outputs": [],
   "source": [
    "metrics_arr = [g_norm_drpt_0_50_5x5_tr_metrics, g_norm_drpt_0_50_5x5_val_metrics, g_norm_drpt_0_50_3x3_tr_metrics, g_norm_drpt_0_50_3x3_val_metrics]\n",
    "lbs = [\"5x5 training\", \"5x5 validation\", \"3x3 training\", \"3x3 validation \"]\n",
    "plot_model_results(metrics_arr, [2, 1], lbs, [\"Epochs\", \"Epochs\"], [\"Accuracy\", \"Loss\"], \n",
    "                   [\"Accuracy vs Epochs\", \n",
    "                    \"Loss vs Epochs\"],\n",
    "                   \"Grayscale (normalised)  - Accuracy and Loss of models with dropout (p-conv=0.75, p-fc=0.5)\"\n",
    "                    , fig_size=(17, 5))"
   ]
  },
  {
   "cell_type": "markdown",
   "metadata": {},
   "source": [
    "Both models show smooth, satisfying on the curves. The 3x3 model clearly seems to perform the best. While we are able to score above 98% accuracy on vaidation set, we have not been able to break through this barrier yet on the test set, but we are close!\n",
    "\n",
    "### Color"
   ]
  },
  {
   "cell_type": "code",
   "execution_count": null,
   "metadata": {},
   "outputs": [],
   "source": [
    "mc_3x3 = ModelConfig(EdLeNet, \"EdLeNet_Color_Norm_3x3_Dropout_0.40\", [32, 32, 3], [3, 32, 3], [120, 84], n_classes, [0.75, 0.5])\n",
    "mc_5x5 = ModelConfig(EdLeNet, \"EdLeNet_Color_Norm_5x5_Dropout_0.40\", [32, 32, 3], [5, 32, 2], [120, 84], n_classes, [0.75, 0.5])"
   ]
  },
  {
   "cell_type": "code",
   "execution_count": null,
   "metadata": {},
   "outputs": [],
   "source": [
    "me_c_norm_drpt_0_50_3x3 = ModelExecutor(mc_3x3, learning_rate=0.001)\n",
    "me_c_norm_drpt_0_50_5x5 = ModelExecutor(mc_5x5, learning_rate=0.001)"
   ]
  },
  {
   "cell_type": "code",
   "execution_count": null,
   "metadata": {},
   "outputs": [],
   "source": [
    "(c_norm_drpt_0_50_3x3_tr_metrics, c_norm_drpt_0_50_3x3_val_metrics, c_norm_drpt_0_50_3x3_duration) = me_c_norm_drpt_0_50_3x3.train_model(X_train_normalised, y_train, X_valid_normalised, y_valid, epochs=100)\n",
    "(c_norm_drpt_0_50_3x3_ts_accuracy, c_norm_drpt_0_50_3x3_ts_loss, c_norm_drpt_0_50_3x3_ts_duration) =  me_c_norm_drpt_0_50_3x3.test_model(X_test_normalised, y_test)"
   ]
  },
  {
   "cell_type": "code",
   "execution_count": null,
   "metadata": {},
   "outputs": [],
   "source": [
    "(c_norm_drpt_0_50_5x5_tr_metrics, c_norm_drpt_0_50_5x5_val_metrics, c_norm_drpt_0_50_5x5_duration) = me_c_norm_drpt_0_50_5x5.train_model(X_train_normalised, y_train, X_valid_normalised, y_valid, epochs=100)\n",
    "(c_norm_drpt_0_50_5x5_ts_accuracy, c_norm_drpt_0_50_5x5_ts_loss, c_norm_drpt_0_50_5x5_ts_duration) =  me_c_norm_drpt_0_50_5x5.test_model(X_test_normalised, y_test)"
   ]
  },
  {
   "cell_type": "code",
   "execution_count": null,
   "metadata": {},
   "outputs": [],
   "source": [
    "metrics_arr = [c_norm_drpt_0_50_5x5_tr_metrics, c_norm_drpt_0_50_5x5_val_metrics, c_norm_drpt_0_50_3x3_tr_metrics, c_norm_drpt_0_50_3x3_val_metrics]\n",
    "lbs = [\"5x5 training\", \"5x5 validation\", \"3x3 training\", \"3x3 validation \"]\n",
    "plot_model_results(metrics_arr, [2, 1], lbs, [\"Epochs\", \"Epochs\"], [\"Accuracy\", \"Loss\"], \n",
    "                   [\"Accuracy vs Epochs\", \n",
    "                    \"Loss vs Epochs\"],\n",
    "                   \"Color (normalised)  - Accuracy and Loss of models with dropout (p-conv=0.75, p-fc=0.5)\"\n",
    "                    , fig_size=(17, 5))"
   ]
  },
  {
   "cell_type": "markdown",
   "metadata": {},
   "source": [
    "Color and grayscale images exhibit very similar behaviour, with maybe the advantage for grayscale, lower losses on test accuracy. At this stage we are unable to pick between grayscale or color for the input images since we obtain very similar results in both cases. Maybe color is not much of an issue in fact if the model performs so well on grayscale images? We will next turn to augmenting images and explore whether we can reach better results by randomly applying distortions to our images.\n",
    "\n",
    "## Histogram Equalization\n",
    "We observed earlier that some of the images in the dataset were quite dark, and others blurry. We are aiming at taclking this problem in this part where we attempt to apply histogram equalization techniques to improve the contrast of our images and therefore make it easier for our model to discern which class the supplied image ultimately belongs to with a higher level of confidence. To do so, we are going to rely on OpenCV's CLAHE (Contrast Limiting Adaptive Histogram Equalization) function."
   ]
  },
  {
   "cell_type": "code",
   "execution_count": null,
   "metadata": {},
   "outputs": [],
   "source": [
    "g_img = np.reshape(X_train_grayscale[15796], (32, 32))\n",
    "plt.imshow(g_img, cmap='gray')"
   ]
  },
  {
   "cell_type": "code",
   "execution_count": null,
   "metadata": {},
   "outputs": [],
   "source": [
    "clahe = cv2.createCLAHE(tileGridSize=(4,4), clipLimit=40.0)\n",
    "cl1 = clahe.apply(g_img)\n",
    "plt.imshow(cl1, cmap='gray')"
   ]
  },
  {
   "cell_type": "code",
   "execution_count": null,
   "metadata": {},
   "outputs": [],
   "source": [
    "clahe = cv2.createCLAHE(tileGridSize=(2,2), clipLimit=15.0)\n",
    "cl2 = clahe.apply(g_img)\n",
    "plt.imshow(cl2, cmap='gray')\n",
    "show_image_list([g_img, cl1, cl2], [\"L0\",\"L1\", \"l2\"], \"\", cols=3, fig_size=(3, 3), show_ticks=False)"
   ]
  },
  {
   "cell_type": "markdown",
   "metadata": {},
   "source": [
    "We choose CLAHE with grid size of 2x2 and climit limit of 15."
   ]
  },
  {
   "cell_type": "code",
   "execution_count": null,
   "metadata": {},
   "outputs": [],
   "source": [
    "X_train_grayscale_equalized = np.asarray(list(map(lambda img: clahe.apply(np.reshape(img, (32, 32))), X_train_grayscale)))\n",
    "X_valid_grayscale_equalized = np.asarray(list(map(lambda img: clahe.apply(np.reshape(img, (32, 32))), X_valid_grayscale)))\n",
    "X_test_grayscale_equalized = np.asarray(list(map(lambda img: clahe.apply(np.reshape(img, (32, 32))), X_test_grayscale)))"
   ]
  },
  {
   "cell_type": "code",
   "execution_count": null,
   "metadata": {},
   "outputs": [],
   "source": [
    "show_image_list(X_train_grayscale_equalized[1640:1650], y_train[1640:1650], \"Equalized images\", fig_size=(15, 10), cols=10, show_ticks=False)"
   ]
  },
  {
   "cell_type": "markdown",
   "metadata": {},
   "source": [
    "## Model evaluation"
   ]
  },
  {
   "cell_type": "code",
   "execution_count": null,
   "metadata": {},
   "outputs": [],
   "source": [
    "# Let's normalise our images beforehand\n",
    "X_train_grayscale_equalized_normalised = normalise_images(X_train_grayscale_equalized, X_train_grayscale_equalized)\n",
    "X_valid_grayscale_equalized_normalised = normalise_images(X_valid_grayscale_equalized, X_train_grayscale_equalized)\n",
    "X_test_grayscale_equalized_normalised = normalise_images(X_test_grayscale_equalized, X_train_grayscale_equalized)"
   ]
  },
  {
   "cell_type": "code",
   "execution_count": null,
   "metadata": {},
   "outputs": [],
   "source": [
    "# Let's not forget to reshape our images\n",
    "X_train_grayscale_equalized = np.reshape(X_train_grayscale_equalized, (X_train_grayscale_equalized.shape[0], 32, 32, 1))\n",
    "X_valid_grayscale_equalized = np.reshape(X_valid_grayscale_equalized, (X_valid_grayscale_equalized.shape[0], 32, 32, 1))\n",
    "X_test_grayscale_equalized = np.reshape(X_test_grayscale_equalized, (X_test_grayscale_equalized.shape[0], 32, 32, 1))\n",
    "\n",
    "X_train_grayscale_equalized_normalised = np.reshape(X_train_grayscale_equalized_normalised, (X_train_grayscale_equalized_normalised.shape[0], 32, 32, 1))\n",
    "X_valid_grayscale_equalized_normalised = np.reshape(X_valid_grayscale_equalized_normalised, (X_valid_grayscale_equalized_normalised.shape[0], 32, 32, 1))\n",
    "X_test_grayscale_equalized_normalised = np.reshape(X_test_grayscale_equalized_normalised, (X_test_grayscale_equalized_normalised.shape[0], 32, 32, 1))"
   ]
  },
  {
   "cell_type": "markdown",
   "metadata": {},
   "source": [
    "### Normalised images With No Dropout"
   ]
  },
  {
   "cell_type": "code",
   "execution_count": null,
   "metadata": {},
   "outputs": [],
   "source": [
    "mc_3x3 = ModelConfig(EdLeNet, \"EdLeNet_Grayscale_CLAHE_Norm_3x3\", [32, 32, 1], [3, 32, 3], [120, 84], n_classes, [1.0, 1.0])\n",
    "mc_5x5 = ModelConfig(EdLeNet, \"EdLeNet_Grayscale_CLAHE_Norm_5x5\", [32, 32, 1], [5, 32, 2], [120, 84], n_classes, [1.0, 1.0])"
   ]
  },
  {
   "cell_type": "code",
   "execution_count": null,
   "metadata": {},
   "outputs": [],
   "source": [
    "me_g_clahe_norm_3x3 = ModelExecutor(mc_3x3)\n",
    "me_g_clahe_norm_5x5 = ModelExecutor(mc_5x5)"
   ]
  },
  {
   "cell_type": "code",
   "execution_count": null,
   "metadata": {},
   "outputs": [],
   "source": [
    "(g_clahe_norm_3x3_tr_metrics, g_clahe_norm_3x3_val_metrics, g_clahe_norm_3x3_duration) = me_g_clahe_norm_3x3.train_model(X_train_grayscale_equalized_normalised, y_train, X_valid_grayscale_equalized_normalised, y_valid, epochs=100)\n",
    "(g_clahe_norm_3x3_ts_accuracy, g_clahe_norm_3x3_ts_loss, g_clahe_norm_3x3_ts_duration) =  me_g_clahe_norm_3x3.test_model(X_test_grayscale_equalized_normalised, y_test)"
   ]
  },
  {
   "cell_type": "code",
   "execution_count": null,
   "metadata": {},
   "outputs": [],
   "source": [
    "(g_clahe_norm_5x5_tr_metrics, g_clahe_norm_5x5_val_metrics, g_clahe_norm_5x5_duration) = me_g_clahe_norm_5x5.train_model(X_train_grayscale_equalized_normalised, y_train, X_valid_grayscale_equalized_normalised, y_valid, epochs=100)\n",
    "(g_clahe_norm_5x5_ts_accuracy, g_clahe_norm_5x5_ts_loss, g_clahe_norm_5x5_ts_duration) =  me_g_clahe_norm_5x5.test_model(X_test_grayscale_equalized_normalised, y_test)"
   ]
  },
  {
   "cell_type": "code",
   "execution_count": null,
   "metadata": {},
   "outputs": [],
   "source": [
    "metrics_arr = [g_clahe_norm_5x5_tr_metrics, g_clahe_norm_5x5_val_metrics, g_clahe_norm_3x3_tr_metrics, g_clahe_norm_3x3_val_metrics]\n",
    "lbs = [\"5x5 training\", \"5x5 validation\", \"3x3 training\", \"3x3 validation \"]\n",
    "plot_model_results(metrics_arr, [2, 1], lbs, [\"Epochs\", \"Epochs\"], [\"Accuracy\", \"Loss\"], \n",
    "                   [\"Accuracy vs Epochs\", \n",
    "                    \"Loss vs Epochs\"],\n",
    "                   \"Grayscale Histogram-Equalized (Normalised)  - Accuracy and Loss of models\"\n",
    "                    , fig_size=(17, 5))"
   ]
  },
  {
   "cell_type": "markdown",
   "metadata": {},
   "source": [
    "The 3x3 model performs better, topping 93% test accuracy, but we can see on the graph of Loss vs Epochs that our models losses increase as the epochs go by, which would indicate that we are overfitting and no working hard enough to extract features that generalise. We will try applying aggressive dropout values, with the hope that this helps alleviate the loss and improve the accuracy.\n",
    "\n",
    "### Normalised images With Dropout\n",
    "We apply our best model with two levels of dropout (p-conv=0.75, p-fc=0.5) on non-normalised histogram-equalised images."
   ]
  },
  {
   "cell_type": "code",
   "execution_count": null,
   "metadata": {},
   "outputs": [],
   "source": [
    "mc_3x3 = ModelConfig(EdLeNet, \"EdLeNet_Grayscale_CLAHE_Norm_3x3_Dropout_0.50\", [32, 32, 1], [3, 32, 3], [120, 84], n_classes, [0.5, 0.5])"
   ]
  },
  {
   "cell_type": "code",
   "execution_count": null,
   "metadata": {},
   "outputs": [],
   "source": [
    "me_g_clahe_norm_drpt_0_50_3x3 = ModelExecutor(mc_3x3)"
   ]
  },
  {
   "cell_type": "code",
   "execution_count": null,
   "metadata": {},
   "outputs": [],
   "source": [
    "(g_clahe_norm_drpt_0_50_3x3_tr_metrics, g_clahe_norm_drpt_0_50_3x3_val_metrics, g_clahe_norm_drpt_0_50_3x3_duration) = me_g_clahe_norm_drpt_0_50_3x3.train_model(X_train_grayscale_equalized_normalised, y_train, X_valid_grayscale_equalized_normalised, y_valid, epochs=500)\n",
    "(g_clahe_norm_drpt_0_50_3x3_ts_accuracy, g_clahe_norm_drpt_0_50_3x3_ts_loss, g_clahe_norm_drpt_0_50_ts_3x3_duration) =  me_g_clahe_norm_drpt_0_50_3x3.test_model(X_test_grayscale_equalized_normalised, y_test)"
   ]
  },
  {
   "cell_type": "code",
   "execution_count": null,
   "metadata": {},
   "outputs": [],
   "source": [
    "mc_3x3 = ModelConfig(EdLeNet, \"EdLeNet_Grayscale_CLAHE_Norm_Take-2_3x3_Dropout_0.50\", [32, 32, 1], [3, 32, 3], [120, 84], n_classes, [0.6, 0.5])"
   ]
  },
  {
   "cell_type": "code",
   "execution_count": null,
   "metadata": {},
   "outputs": [],
   "source": [
    "me_g_clahe_norm_take2_drpt_0_50_3x3 = ModelExecutor(mc_3x3)"
   ]
  },
  {
   "cell_type": "code",
   "execution_count": null,
   "metadata": {},
   "outputs": [],
   "source": [
    "(g_clahe_norm_take2_drpt_0_50_3x3_tr_metrics, g_clahe_norm_take2_drpt_0_50_3x3_val_metrics, g_clahe_norm_take2_drpt_0_50_3x3_duration)    =  me_g_clahe_norm_take2_drpt_0_50_3x3.train_model(X_train_grayscale_equalized_normalised, y_train, X_valid_grayscale_equalized_normalised, y_valid, epochs=500)\n",
    "(g_clahe_norm_take2_drpt_0_50_3x3_ts_accuracy, g_clahe_norm_take2_drpt_0_50_3x3_ts_loss,    g_clahe_norm_take2_drpt_0_50_ts_3x3_duration) =  me_g_clahe_norm_take2_drpt_0_50_3x3.test_model(X_test_grayscale_equalized_normalised, y_test)"
   ]
  },
  {
   "cell_type": "markdown",
   "metadata": {},
   "source": [
    "### The 3x3 CLAHE - Take 2- achieves a remarkable 97.75% accuracy with loss score under 0.1. That is so far our best model.\n",
    "\n",
    "### Analysis of 3x3 Model performance"
   ]
  },
  {
   "cell_type": "code",
   "execution_count": null,
   "metadata": {},
   "outputs": [],
   "source": [
    "test_preds = me_g_clahe_norm_take2_drpt_0_50_3x3.predict(X_test_grayscale_equalized_normalised)"
   ]
  },
  {
   "cell_type": "code",
   "execution_count": null,
   "metadata": {},
   "outputs": [],
   "source": [
    "good_test_preds = test_preds == y_test\n",
    "bad_test_preds = test_preds != y_test"
   ]
  },
  {
   "cell_type": "code",
   "execution_count": null,
   "metadata": {},
   "outputs": [],
   "source": [
    "bad_test_pred_imgs = X_test_grayscale_equalized[bad_test_preds]\n",
    "good_test_pred_imgs = X_test_grayscale_equalized[good_test_preds]\n",
    "bad_test_pred_correct_lb = y_test[bad_test_preds]\n",
    "bad_test_pred_incorrect_lb = test_preds[bad_test_preds]"
   ]
  },
  {
   "cell_type": "code",
   "execution_count": null,
   "metadata": {},
   "outputs": [],
   "source": [
    "print(\"Number of good predictions: {0}/{1}\".format(len(good_test_pred_imgs), len(y_test)))\n",
    "print(\"Number of bad predictions: {0}/{1}\".format(len(bad_test_pred_imgs), len(y_test)))"
   ]
  },
  {
   "cell_type": "markdown",
   "metadata": {},
   "source": [
    "We have 284 images where our prediction was incorrect. Let's visualize some of them to better understand what's going on."
   ]
  },
  {
   "cell_type": "code",
   "execution_count": null,
   "metadata": {},
   "outputs": [],
   "source": [
    "count = 10\n",
    "idx = np.random.randint(0, high=len(bad_test_pred_imgs), size=10)\n",
    "show_image_list(bad_test_pred_imgs[idx], bad_test_pred_incorrect_lb[idx], \"Bad test predictions\", cols=count)"
   ]
  },
  {
   "cell_type": "markdown",
   "metadata": {},
   "source": [
    "Some of the images are very blurry, despite our histogram equalization, while others seem distored. We turn to data augmentation to address these issues.\n",
    "\n",
    "## Data Augmentation\n",
    "We observed earlier that the data presented glaring imbalance across the 43 classes. Yet it does not seem to be a crippling problem as we are able to reach very high accuracy despite the class imbalance. We also noticed that some images in the test set are distorted. We are therefore going to use data augmentation techniques in an attempt to:\n",
    "\n",
    "* Minimize imbalances across classes\n",
    "* Extend dataset and provide additional pictures in different lighting settings and orientations\n",
    "* Improve model's ability to become more generic\n",
    "* Improve test and validation accuracy, especially on distorted images"
   ]
  },
  {
   "cell_type": "code",
   "execution_count": null,
   "metadata": {},
   "outputs": [],
   "source": [
    "X_train_augs = X_train\n",
    "y_train_augs = y_train"
   ]
  },
  {
   "cell_type": "code",
   "execution_count": null,
   "metadata": {},
   "outputs": [],
   "source": [
    "# This loop augments images per label group\n",
    "for (lid, lbl), group in X_train_group_by_label:\n",
    "    #print(\"[{0}] : {1}\".format(lid, lbl))   \n",
    "    group_count = group['img_id'].size\n",
    "    idx = group['img_id'].values\n",
    "    imgs = X_train[idx]\n",
    "\n",
    "    \n",
    "    \n",
    "    # Take a different population of the subset depending on how many images we have already\n",
    "    # and vary the number of augmentations depending on size of label group\n",
    "    pt_spacing = 1.0\n",
    "    p = 1.0\n",
    "    \n",
    "    n = group_count * 0.1\n",
    "    \n",
    "    \n",
    "    if group_count > 500 and group_count < 1000:\n",
    "        pt_spacing = 3.0\n",
    "    elif group_count >= 1000 and group_count < 2000:\n",
    "        pt_spacing = 10.0\n",
    "    elif group_count >= 2000:\n",
    "        pt_spacing = 20.0\n",
    "    \n",
    "    n = int(n)\n",
    "    \n",
    "    space_interval = int(group_count / pt_spacing)\n",
    "    \n",
    "    rand_idx = np.linspace(0, group_count, num=space_interval, endpoint=False, dtype='int')\n",
    "    \n",
    "    selected_rows = group.iloc[rand_idx]\n",
    "    selected_img = np.array(list(map(lambda img_id: X_train[img_id], selected_rows['img_id'])))\n",
    "    \n",
    "    augs = augment_imgs_until_n(selected_img, n, p)\n",
    "    X_train_augs = np.concatenate((X_train_augs, augs))\n",
    "    y_train_augs = np.concatenate((y_train_augs, np.repeat(lid, n)))\n",
    "    \n",
    "print(\"New Augmented arrays shape: {0} and {1}\".format(X_train_augs.shape, y_train_augs.shape))"
   ]
  },
  {
   "cell_type": "code",
   "execution_count": null,
   "metadata": {},
   "outputs": [],
   "source": [
    "\n",
    "X_train_augs_id_to_label = group_img_id_to_lbl(y_train_augs, sign_names)\n",
    "X_train_augs_group_by_label_count = group_img_id_to_lb_count(X_train_augs_id_to_label)\n",
    "\n",
    "# Now count the number of images for each class and plot the results so that we understand the distribution\n",
    "X_train_augs_group_by_label_count.plot(kind='bar', figsize=(15, 7))"
   ]
  },
  {
   "cell_type": "markdown",
   "metadata": {},
   "source": [
    "We have managed to mitigate the gaping imbalance we originally observed, but it is still painfully obvious. We decided to temper our augmentation ambitions as we did not want the model to overwhelmingly learn about augmented images, to the detriment of real images. That's a hard balance to strike in all fairness but we believe we have some interesting results. Now every class has at least 10% of its dataset augmented. Our assumption is that our network should now perform better. Let's put it to the test. The below shows visuals of the new dataset, with some images having been augmented by the steps above."
   ]
  },
  {
   "cell_type": "code",
   "execution_count": null,
   "metadata": {},
   "outputs": [],
   "source": [
    "# Let's plot images from each of these classes\n",
    "X_train_augs_group_by_label = X_train_augs_id_to_label.groupby([\"label_id\", \"label_name\"])"
   ]
  },
  {
   "cell_type": "code",
   "execution_count": null,
   "metadata": {},
   "outputs": [],
   "source": [
    "show_random_dataset_images(X_train_augs_group_by_label, X_train_augs)"
   ]
  },
  {
   "cell_type": "markdown",
   "metadata": {},
   "source": [
    "## Evaluating model on augmented dataset\n",
    "For this part, we will focus exclusively on grayscale images as they seem to produce better performance. Color images may exhibit close performance but as we plan to also apply histogram equalization the images must be in grayscale.\n",
    "\n",
    "### Grayscale Augmented Dataset"
   ]
  },
  {
   "cell_type": "code",
   "execution_count": null,
   "metadata": {},
   "outputs": [],
   "source": [
    "# First convert to grayscale\n",
    "X_train_augs_grayscale = np.asarray(list(map(lambda img: to_grayscale(img), X_train_augs)))"
   ]
  },
  {
   "cell_type": "code",
   "execution_count": null,
   "metadata": {},
   "outputs": [],
   "source": [
    "# Then histogram equalize the grayscale images\n",
    "X_train_augs_grayscale_equalized  = np.asarray(list(map(lambda img: clahe.apply(np.reshape(img, (32, 32))), X_train_augs_grayscale )))"
   ]
  },
  {
   "cell_type": "code",
   "execution_count": null,
   "metadata": {},
   "outputs": [],
   "source": [
    "# Now normalise using the mean and std of the training set\n",
    "X_train_augs_grayscale_equalized_normalised = normalise_images(X_train_augs_grayscale_equalized, X_train_augs_grayscale_equalized)\n",
    "X_valid_augs_grayscale_equalized_normalised = normalise_images(X_valid_grayscale_equalized, X_train_augs_grayscale_equalized)\n",
    "X_test_augs_grayscale_equalized_normalised = normalise_images(X_test_grayscale_equalized, X_train_augs_grayscale_equalized)"
   ]
  },
  {
   "cell_type": "code",
   "execution_count": null,
   "metadata": {},
   "outputs": [],
   "source": [
    "# Reshaping our inputs to a format that tensorflow accepts (i.e. a 4D tensor)\n",
    "X_train_augs_grayscale_equalized_normalised = np.reshape(X_train_augs_grayscale_equalized_normalised, (X_train_augs_grayscale_equalized_normalised.shape[0], 32, 32, 1))\n",
    "X_valid_augs_grayscale_equalized_normalised = np.reshape(X_valid_augs_grayscale_equalized_normalised, (X_valid_augs_grayscale_equalized_normalised.shape[0], 32, 32, 1))\n",
    "X_test_augs_grayscale_equalized_normalised = np.reshape(X_test_augs_grayscale_equalized_normalised,   (X_test_augs_grayscale_equalized_normalised.shape[0], 32, 32, 1))"
   ]
  },
  {
   "cell_type": "markdown",
   "metadata": {},
   "source": [
    "### No Dropout"
   ]
  },
  {
   "cell_type": "code",
   "execution_count": null,
   "metadata": {},
   "outputs": [],
   "source": [
    "mc_3x3 = ModelConfig(EdLeNet, \"EdLeNet_Augs_Grayscale_CLAHE_Norm_3x3\", [32, 32, 1], [3, 32, 3], [120, 84], n_classes, [1.0, 1.0])"
   ]
  },
  {
   "cell_type": "code",
   "execution_count": null,
   "metadata": {},
   "outputs": [],
   "source": [
    "me_g_augs_clahe_norm_3x3 = ModelExecutor(mc_3x3)"
   ]
  },
  {
   "cell_type": "code",
   "execution_count": null,
   "metadata": {},
   "outputs": [],
   "source": [
    "(g_augs_clahe_norm_3x3_tr_metrics,  g_augs_clahe_norm_3x3_val_metrics, g_augs_clahe_norm_3x3_duration) = me_g_augs_clahe_norm_3x3.train_model(X_train_augs_grayscale_equalized_normalised, y_train_augs, X_valid_augs_grayscale_equalized_normalised, y_valid, epochs=50, batch_size=4096)"
   ]
  },
  {
   "cell_type": "code",
   "execution_count": null,
   "metadata": {},
   "outputs": [],
   "source": [
    "(g_augs_clahe_norm_3x3_ts_accuracy, g_augs_clahe_norm_3x3_ts_loss,     g_augs_clahe_norm_3x3_ts_duration) =  me_g_augs_clahe_norm_3x3.test_model(X_test_augs_grayscale_equalized_normalised, y_test)"
   ]
  },
  {
   "cell_type": "markdown",
   "metadata": {},
   "source": [
    "We only ran 50 epochs this time and the results look very encouraging. Let's now try more aggressive values for dropout to see how the model adapts.\n",
    "\n",
    "### Dropout - Keep Fully Connected Layer Weights with p=0.5"
   ]
  },
  {
   "cell_type": "code",
   "execution_count": null,
   "metadata": {},
   "outputs": [],
   "source": [
    "mc_3x3 = ModelConfig(EdLeNet, \"EdLeNet_Augs_Grayscale_CLAHE_Norm_3x3_Dropout_0.50\", [32, 32, 1], [3, 32, 3], [120, 84], n_classes, [.7, 0.5])"
   ]
  },
  {
   "cell_type": "code",
   "execution_count": null,
   "metadata": {},
   "outputs": [],
   "source": [
    "me_g_augs_clahe_norm_drpt_0_50_3x3 = ModelExecutor(mc_3x3, learning_rate=0.001)"
   ]
  },
  {
   "cell_type": "code",
   "execution_count": null,
   "metadata": {},
   "outputs": [],
   "source": [
    "(g_augs_clahe_norm_drpt_0_50_3x3_tr_metrics,  g_augs_clahe_norm_drpt_0_50_3x3_val_metrics, g_augs_clahe_norm_drpt_0_50_3x3_duration) = me_g_augs_clahe_norm_drpt_0_50_3x3.train_model(X_train_augs_grayscale_equalized_normalised, y_train_augs, X_valid_augs_grayscale_equalized_normalised, y_valid, epochs=900, batch_size=512)\n",
    "(g_augs_clahe_norm_drpt_0_50_3x3_ts_accuracy, g_augs_clahe_norm_drpt_0_50_3x3_ts_loss,     g_augs_clahe_norm_drpt_0_50_3x3_ts_duration) =  me_g_augs_clahe_norm_drpt_0_50_3x3.test_model(X_test_augs_grayscale_equalized_normalised, y_test)"
   ]
  },
  {
   "cell_type": "code",
   "execution_count": null,
   "metadata": {},
   "outputs": [],
   "source": [
    "mc_3x3 = ModelConfig(EdLeNet, \"EdLeNet_Augs_Grayscale_CLAHE_Norm_3x3_Dropout_0.50\", [32, 32, 1], [3, 32, 3], [120, 84], n_classes, [.7, 0.5])\n",
    "me_g_augs_clahe_norm_drpt_0_50_3x3 = ModelExecutor(mc_3x3, learning_rate=0.001)\n",
    "(g_augs_clahe_norm_drpt_0_50_3x3_ts_accuracy, g_augs_clahe_norm_drpt_0_50_3x3_ts_loss,     g_augs_clahe_norm_drpt_0_50_3x3_ts_duration) =  me_g_augs_clahe_norm_drpt_0_50_3x3.test_model(X_train_augs_grayscale_equalized_normalised, y_train_augs)"
   ]
  },
  {
   "cell_type": "code",
   "execution_count": null,
   "metadata": {},
   "outputs": [],
   "source": [
    "(g_augs_clahe_norm_drpt_0_50_3x3_ts_accuracy, g_augs_clahe_norm_drpt_0_50_3x3_ts_loss,     g_augs_clahe_norm_drpt_0_50_3x3_ts_duration) =  me_g_augs_clahe_norm_drpt_0_50_3x3.test_model(X_test_augs_grayscale_equalized_normalised, y_test)"
   ]
  },
  {
   "cell_type": "code",
   "execution_count": null,
   "metadata": {},
   "outputs": [],
   "source": [
    "mc_3x3 = ModelConfig(EdLeNet, \"EdLeNet_Augs_Grayscale_CLAHE_Norm_Take2_3x3_Dropout_0.50\", [32, 32, 1], [3, 32, 3], [120, 84], n_classes, [.75, 0.5])\n",
    "me_g_augs_clahe_norm_drpt_0_50_3x3 = ModelExecutor(mc_3x3, learning_rate=0.001)\n",
    "(g_augs_clahe_norm_drpt_0_50_3x3_tr_metrics,  g_augs_clahe_norm_drpt_0_50_3x3_val_metrics, g_augs_clahe_norm_drpt_0_50_3x3_duration) = me_g_augs_clahe_norm_drpt_0_50_3x3.train_model(X_train_augs_grayscale_equalized_normalised, y_train_augs, X_valid_augs_grayscale_equalized_normalised, y_valid, epochs=900, batch_size=512)\n",
    "(g_augs_clahe_norm_drpt_0_50_3x3_ts_accuracy, g_augs_clahe_norm_drpt_0_50_3x3_ts_loss,     g_augs_clahe_norm_drpt_0_50_3x3_ts_duration) =  me_g_augs_clahe_norm_drpt_0_50_3x3.test_model(X_test_augs_grayscale_equalized_normalised, y_test)"
   ]
  },
  {
   "cell_type": "code",
   "execution_count": null,
   "metadata": {},
   "outputs": [],
   "source": [
    "# TESTING\n",
    "mc_3x3 = ModelConfig(EdLeNet, \"EdLeNet_Augs_Grayscale_CLAHE_Norm_Take2_3x3_Dropout_0.50\", [32, 32, 1], [3, 32, 3], [120, 84], n_classes, [.75, 0.5])\n",
    "me_g_augs_clahe_norm_drpt_0_50_3x3 = ModelExecutor(mc_3x3, learning_rate=0.001)\n",
    "(g_augs_clahe_norm_drpt_0_50_3x3_ts_accuracy, g_augs_clahe_norm_drpt_0_50_3x3_ts_loss,     g_augs_clahe_norm_drpt_0_50_3x3_ts_duration) =  me_g_augs_clahe_norm_drpt_0_50_3x3.test_model(X_test_augs_grayscale_equalized_normalised, y_test)"
   ]
  },
  {
   "cell_type": "code",
   "execution_count": null,
   "metadata": {},
   "outputs": [],
   "source": [
    "mc_3x3 = ModelConfig(EdLeNet, \"EdLeNet_Augs_Grayscale_CLAHE_Norm_Take3_3x3_Dropout_0.50\", [32, 32, 1], [3, 32, 3], [120, 84], n_classes, [.75, 0.4])\n",
    "me_g_augs_clahe_norm_drpt_0_50_3x3 = ModelExecutor(mc_3x3, learning_rate=0.001)\n",
    "(g_augs_clahe_norm_drpt_0_50_3x3_tr_metrics,  g_augs_clahe_norm_drpt_0_50_3x3_val_metrics, g_augs_clahe_norm_drpt_0_50_3x3_duration) = me_g_augs_clahe_norm_drpt_0_50_3x3.train_model(X_train_augs_grayscale_equalized_normalised, y_train_augs, X_valid_augs_grayscale_equalized_normalised, y_valid, epochs=900, batch_size=512)\n",
    "(g_augs_clahe_norm_drpt_0_50_3x3_ts_accuracy, g_augs_clahe_norm_drpt_0_50_3x3_ts_loss,     g_augs_clahe_norm_drpt_0_50_3x3_ts_duration) =  me_g_augs_clahe_norm_drpt_0_50_3x3.test_model(X_test_augs_grayscale_equalized_normalised, y_test)"
   ]
  },
  {
   "cell_type": "code",
   "execution_count": null,
   "metadata": {},
   "outputs": [],
   "source": [
    "# TESTING\n",
    "mc_3x3 = ModelConfig(EdLeNet, \"EdLeNet_Augs_Grayscale_CLAHE_Norm_Take3_3x3_Dropout_0.50\", [32, 32, 1], [3, 32, 3], [120, 84], n_classes, [.75, 0.4])\n",
    "me_g_augs_clahe_norm_drpt_0_50_3x3 = ModelExecutor(mc_3x3, learning_rate=0.001)\n",
    "(g_augs_clahe_norm_drpt_0_50_3x3_ts_accuracy, g_augs_clahe_norm_drpt_0_50_3x3_ts_loss,     g_augs_clahe_norm_drpt_0_50_3x3_ts_duration) =  me_g_augs_clahe_norm_drpt_0_50_3x3.test_model(X_test_augs_grayscale_equalized_normalised, y_test)"
   ]
  },
  {
   "cell_type": "code",
   "execution_count": null,
   "metadata": {},
   "outputs": [],
   "source": [
    "mc_3x3 = ModelConfig(EdLeNet, \"EdLeNet_Augs_Grayscale_CLAHE_Norm_Take4_3x3_Dropout_0.50\", [32, 32, 1], [3, 32, 3], [120, 84], n_classes, [0.6, 0.5])\n",
    "me_g_augs_clahe_norm_drpt_0_50_3x3 = ModelExecutor(mc_3x3, learning_rate=0.001)\n",
    "(g_augs_clahe_norm_drpt_0_50_3x3_tr_metrics,  g_augs_clahe_norm_drpt_0_50_3x3_val_metrics, g_augs_clahe_norm_drpt_0_50_3x3_duration) = me_g_augs_clahe_norm_drpt_0_50_3x3.train_model(X_train_augs_grayscale_equalized_normalised, y_train_augs, X_valid_augs_grayscale_equalized_normalised, y_valid, epochs=900, batch_size=512)\n",
    "(g_augs_clahe_norm_drpt_0_50_3x3_ts_accuracy, g_augs_clahe_norm_drpt_0_50_3x3_ts_loss,     g_augs_clahe_norm_drpt_0_50_3x3_ts_duration) =  me_g_augs_clahe_norm_drpt_0_50_3x3.test_model(X_test_augs_grayscale_equalized_normalised, y_test)"
   ]
  },
  {
   "cell_type": "code",
   "execution_count": null,
   "metadata": {},
   "outputs": [],
   "source": [
    "# Verifying test set accuracy\n",
    "mc_3x3 = ModelConfig(EdLeNet, \"EdLeNet_Augs_Grayscale_CLAHE_Norm_Take4_3x3_Dropout_0.50\", [32, 32, 1], [3, 32, 3], [120, 84], n_classes, [0.6, 0.5])\n",
    "me_g_augs_clahe_norm_drpt_0_50_3x3 = ModelExecutor(mc_3x3, learning_rate=0.001)\n",
    "(g_augs_clahe_norm_drpt_0_50_3x3_ts_accuracy, g_augs_clahe_norm_drpt_0_50_3x3_ts_loss,     g_augs_clahe_norm_drpt_0_50_3x3_ts_duration) =  me_g_augs_clahe_norm_drpt_0_50_3x3.test_model(X_test_augs_grayscale_equalized_normalised, y_test)"
   ]
  },
  {
   "cell_type": "code",
   "execution_count": null,
   "metadata": {},
   "outputs": [],
   "source": [
    "# Verifying training and validation set\n",
    "# Training set\n",
    "(g_augs_clahe_norm_drpt_0_50_3x3_ts_accuracy, g_augs_clahe_norm_drpt_0_50_3x3_ts_loss,     g_augs_clahe_norm_drpt_0_50_3x3_ts_duration) =  me_g_augs_clahe_norm_drpt_0_50_3x3.test_model(X_train_augs_grayscale_equalized_normalised, y_train_augs)\n",
    "# Validation set\n",
    "(g_augs_clahe_norm_drpt_0_50_3x3_ts_accuracy, g_augs_clahe_norm_drpt_0_50_3x3_ts_loss,     g_augs_clahe_norm_drpt_0_50_3x3_ts_duration) =  me_g_augs_clahe_norm_drpt_0_50_3x3.test_model(X_valid_augs_grayscale_equalized_normalised, y_valid)"
   ]
  },
  {
   "cell_type": "markdown",
   "metadata": {},
   "source": [
    "The model EdLeNet_Augs_Grayscale_CLAHE_Norm_Take4_3x3_Dropout_0.50 gives us our best results to date, with a test accuracy of 97.82% . Because the loss on the training and validation sets is still relatively high, it indicates that we most likely still have room for manoeuvre, and should therefore run the model for more epochs. Therefore, we will have the current results and re-run the model for twice as many epochs and then observe results."
   ]
  },
  {
   "cell_type": "code",
   "execution_count": null,
   "metadata": {},
   "outputs": [],
   "source": [
    "mc_3x3 = ModelConfig(EdLeNet, \"EdLeNet_Augs_Grayscale_CLAHE_Norm_Take4_Bis_3x3_Dropout_0.50\", [32, 32, 1], [3, 32, 3], [120, 84], n_classes, [0.6, 0.5])\n",
    "me_g_augs_clahe_norm_drpt_0_50_3x3 = ModelExecutor(mc_3x3, learning_rate=0.001)\n",
    "(g_augs_clahe_norm_drpt_0_50_3x3_tr_metrics,  g_augs_clahe_norm_drpt_0_50_3x3_val_metrics, g_augs_clahe_norm_drpt_0_50_3x3_duration) = me_g_augs_clahe_norm_drpt_0_50_3x3.train_model(X_train_augs_grayscale_equalized_normalised, y_train_augs, X_valid_augs_grayscale_equalized_normalised, y_valid, epochs=2000, batch_size=512)\n",
    "(g_augs_clahe_norm_drpt_0_50_3x3_ts_accuracy, g_augs_clahe_norm_drpt_0_50_3x3_ts_loss,     g_augs_clahe_norm_drpt_0_50_3x3_ts_duration) =  me_g_augs_clahe_norm_drpt_0_50_3x3.test_model(X_test_augs_grayscale_equalized_normalised, y_test)"
   ]
  },
  {
   "cell_type": "code",
   "execution_count": null,
   "metadata": {},
   "outputs": [],
   "source": [
    "mc_3x3 = ModelConfig(EdLeNet, \"EdLeNet_Augs_Grayscale_CLAHE_Norm_Take5_3x3_Dropout_0.50\", [32, 32, 1], [3, 32, 3], [120, 84], n_classes, [0.65, 0.5])\n",
    "me_g_augs_clahe_norm_drpt_0_50_3x3 = ModelExecutor(mc_3x3, learning_rate=0.001)\n",
    "(g_augs_clahe_norm_drpt_0_50_3x3_tr_metrics,  g_augs_clahe_norm_drpt_0_50_3x3_val_metrics, g_augs_clahe_norm_drpt_0_50_3x3_duration) = me_g_augs_clahe_norm_drpt_0_50_3x3.train_model(X_train_augs_grayscale_equalized_normalised, y_train_augs, X_valid_augs_grayscale_equalized_normalised, y_valid, epochs=2000, batch_size=512)\n",
    "(g_augs_clahe_norm_drpt_0_50_3x3_ts_accuracy, g_augs_clahe_norm_drpt_0_50_3x3_ts_loss,     g_augs_clahe_norm_drpt_0_50_3x3_ts_duration) =  me_g_augs_clahe_norm_drpt_0_50_3x3.test_model(X_test_augs_grayscale_equalized_normalised, y_test)"
   ]
  },
  {
   "cell_type": "code",
   "execution_count": null,
   "metadata": {},
   "outputs": [],
   "source": [
    "(g_augs_clahe_norm_drpt_0_50_3x3_ts_accuracy, g_augs_clahe_norm_drpt_0_50_3x3_ts_loss,     g_augs_clahe_norm_drpt_0_50_3x3_ts_duration) =  me_g_augs_clahe_norm_drpt_0_50_3x3.test_model(X_test_augs_grayscale_equalized_normalised, y_test)"
   ]
  },
  {
   "cell_type": "markdown",
   "metadata": {},
   "source": [
    "##### We were running out of time here so had to interrupt the computations. Data augmentation shows a lot of promise and we will train our model on it in the future.\n",
    "\n",
    "### Future Improvements\n",
    "While we have obtained very good results, we believe that we can achieve even better performance in the future by testing more hyperparameter variations (e.g. dimensions of fully connected layers) as well as exploring novel ANN architectures such as GoogLeNet's Inception Module, Resnet, or Xception. We also wished we had a bit more time to train the model on the augmented dataset.\n",
    "\n",
    "## Test Model on New Images\n",
    "In this section, we use new images of German traffic signs, downloaded from the Internet, to run the model's prediction against. We then visualise the top 5 softmax probabilities and finally, show what the model's activation layers look like for the supplied images.\n",
    "\n",
    "## Load and Output the Images"
   ]
  },
  {
   "cell_type": "code",
   "execution_count": 36,
   "metadata": {},
   "outputs": [],
   "source": [
    "from PIL import Image\n",
    "import os"
   ]
  },
  {
   "cell_type": "code",
   "execution_count": 37,
   "metadata": {},
   "outputs": [],
   "source": [
    "def get_imgs_from_folder(path, size=(32, 32), grayscale=False):\n",
    "    \"\"\"  \n",
    "    Returns a list of images from a folder as a numpy array\n",
    "    \"\"\"\n",
    "    img_list = [os.path.join(path,f) for f in os.listdir(path) if f.endswith(\".jpg\") or f.endswith(\".png\")]\n",
    "    imgs = None \n",
    "    if grayscale:\n",
    "        imgs = np.empty([len(img_list), size[0], size[1]], dtype=np.uint8) \n",
    "    else:\n",
    "        imgs = np.empty([len(img_list), size[0], size[1], 3], dtype=np.uint8) \n",
    "\n",
    "    for i, img_path in enumerate(img_list):\n",
    "        img = Image.open(img_path).convert('RGB')\n",
    "        img = img.resize(size)\n",
    "        im = np.array(to_grayscale(img)) if grayscale else np.array(img)\n",
    "        imgs[i] = im\n",
    "\n",
    "    return imgs"
   ]
  },
  {
   "cell_type": "code",
   "execution_count": 41,
   "metadata": {},
   "outputs": [],
   "source": [
    "new_imgs_dir = \"./custom_images/\""
   ]
  },
  {
   "cell_type": "code",
   "execution_count": null,
   "metadata": {},
   "outputs": [],
   "source": []
  },
  {
   "cell_type": "code",
   "execution_count": 39,
   "metadata": {},
   "outputs": [
    {
     "ename": "FileNotFoundError",
     "evalue": "[WinError 3] The system cannot find the path specified: './custom_images/'",
     "output_type": "error",
     "traceback": [
      "\u001b[1;31m---------------------------------------------------------------------------\u001b[0m",
      "\u001b[1;31mFileNotFoundError\u001b[0m                         Traceback (most recent call last)",
      "\u001b[1;32m<ipython-input-39-2e3d1eb68f4a>\u001b[0m in \u001b[0;36m<module>\u001b[1;34m\u001b[0m\n\u001b[1;32m----> 1\u001b[1;33m \u001b[0mnew_imgs\u001b[0m \u001b[1;33m=\u001b[0m \u001b[0mget_imgs_from_folder\u001b[0m\u001b[1;33m(\u001b[0m\u001b[0mnew_imgs_dir\u001b[0m\u001b[1;33m)\u001b[0m\u001b[1;33m\u001b[0m\u001b[1;33m\u001b[0m\u001b[0m\n\u001b[0m\u001b[0;32m      2\u001b[0m \u001b[0mnew_imgs\u001b[0m\u001b[1;33m.\u001b[0m\u001b[0mshape\u001b[0m\u001b[1;33m\u001b[0m\u001b[1;33m\u001b[0m\u001b[0m\n",
      "\u001b[1;32m<ipython-input-37-8820e7ccba03>\u001b[0m in \u001b[0;36mget_imgs_from_folder\u001b[1;34m(path, size, grayscale)\u001b[0m\n\u001b[0;32m      3\u001b[0m     \u001b[0mReturns\u001b[0m \u001b[0ma\u001b[0m \u001b[0mlist\u001b[0m \u001b[0mof\u001b[0m \u001b[0mimages\u001b[0m \u001b[1;32mfrom\u001b[0m \u001b[0ma\u001b[0m \u001b[0mfolder\u001b[0m \u001b[1;32mas\u001b[0m \u001b[0ma\u001b[0m \u001b[0mnumpy\u001b[0m \u001b[0marray\u001b[0m\u001b[1;33m\u001b[0m\u001b[1;33m\u001b[0m\u001b[0m\n\u001b[0;32m      4\u001b[0m     \"\"\"\n\u001b[1;32m----> 5\u001b[1;33m     \u001b[0mimg_list\u001b[0m \u001b[1;33m=\u001b[0m \u001b[1;33m[\u001b[0m\u001b[0mos\u001b[0m\u001b[1;33m.\u001b[0m\u001b[0mpath\u001b[0m\u001b[1;33m.\u001b[0m\u001b[0mjoin\u001b[0m\u001b[1;33m(\u001b[0m\u001b[0mpath\u001b[0m\u001b[1;33m,\u001b[0m\u001b[0mf\u001b[0m\u001b[1;33m)\u001b[0m \u001b[1;32mfor\u001b[0m \u001b[0mf\u001b[0m \u001b[1;32min\u001b[0m \u001b[0mos\u001b[0m\u001b[1;33m.\u001b[0m\u001b[0mlistdir\u001b[0m\u001b[1;33m(\u001b[0m\u001b[0mpath\u001b[0m\u001b[1;33m)\u001b[0m \u001b[1;32mif\u001b[0m \u001b[0mf\u001b[0m\u001b[1;33m.\u001b[0m\u001b[0mendswith\u001b[0m\u001b[1;33m(\u001b[0m\u001b[1;34m\".jpg\"\u001b[0m\u001b[1;33m)\u001b[0m \u001b[1;32mor\u001b[0m \u001b[0mf\u001b[0m\u001b[1;33m.\u001b[0m\u001b[0mendswith\u001b[0m\u001b[1;33m(\u001b[0m\u001b[1;34m\".png\"\u001b[0m\u001b[1;33m)\u001b[0m\u001b[1;33m]\u001b[0m\u001b[1;33m\u001b[0m\u001b[1;33m\u001b[0m\u001b[0m\n\u001b[0m\u001b[0;32m      6\u001b[0m     \u001b[0mimgs\u001b[0m \u001b[1;33m=\u001b[0m \u001b[1;32mNone\u001b[0m\u001b[1;33m\u001b[0m\u001b[1;33m\u001b[0m\u001b[0m\n\u001b[0;32m      7\u001b[0m     \u001b[1;32mif\u001b[0m \u001b[0mgrayscale\u001b[0m\u001b[1;33m:\u001b[0m\u001b[1;33m\u001b[0m\u001b[1;33m\u001b[0m\u001b[0m\n",
      "\u001b[1;31mFileNotFoundError\u001b[0m: [WinError 3] The system cannot find the path specified: './custom_images/'"
     ]
    }
   ],
   "source": [
    "new_imgs = get_imgs_from_folder(new_imgs_dir)\n",
    "new_imgs.shape"
   ]
  },
  {
   "cell_type": "code",
   "execution_count": null,
   "metadata": {},
   "outputs": [],
   "source": [
    "new_img_grayscale_clahe = np.asarray(list(map(lambda img: clahe.apply(to_grayscale(img)), new_imgs)))"
   ]
  },
  {
   "cell_type": "code",
   "execution_count": null,
   "metadata": {},
   "outputs": [],
   "source": [
    "def class_ids_to_labels(cids):\n",
    "    return list(map(lambda cid: sign_names[sign_names[\"ClassId\"] == cid] [\"SignName\"].values[0],  cids))"
   ]
  },
  {
   "cell_type": "code",
   "execution_count": null,
   "metadata": {},
   "outputs": [],
   "source": [
    "# Let's also create the labels for our images\n",
    "new_img_lbs = np.array([8, 12, 15, 25, 16])"
   ]
  },
  {
   "cell_type": "code",
   "execution_count": null,
   "metadata": {},
   "outputs": [],
   "source": [
    "new_img_lbs_text = class_ids_to_labels(new_img_lbs)\n",
    "new_img_lbs_text"
   ]
  },
  {
   "cell_type": "code",
   "execution_count": null,
   "metadata": {},
   "outputs": [],
   "source": [
    "show_image_list(new_imgs, new_img_lbs_text, \"New Traffic Sign Images (Color)\", cols=len(new_imgs), \n",
    "                fig_size=(6,6), show_ticks=False)"
   ]
  },
  {
   "cell_type": "code",
   "execution_count": null,
   "metadata": {},
   "outputs": [],
   "source": [
    "show_image_list(new_img_grayscale_clahe, new_img_lbs_text, \"New Traffic Sign Images (Grayscale)\", cols=len(new_img_grayscale_clahe), \n",
    "                fig_size=(6,6), show_ticks=False)"
   ]
  },
  {
   "cell_type": "markdown",
   "metadata": {},
   "source": [
    "The Images were chosen because of the following:\n",
    "\n",
    "* They represent different traffic signs that we currently classify\n",
    "* They vary in shape and color\n",
    "* They are under different lighting conditions (the 4th one has sunlight reflection)\n",
    "* They are under different orientations (the 3rd one is slanted)\n",
    "* They have different background\n",
    "* The last image is actually a design, not a real picture, and we wanted to test the model against it to see if it recognizes it\n",
    "* Some of them are in under-represented classes\n",
    "## Predict the Sign Type for Each Image"
   ]
  },
  {
   "cell_type": "code",
   "execution_count": null,
   "metadata": {},
   "outputs": [],
   "source": [
    "# First normalise the images\n",
    "new_img_grayscale_clahe_normalised = normalise_images(new_img_grayscale_clahe, X_train_grayscale_equalized"
   ]
  },
  {
   "cell_type": "code",
   "execution_count": null,
   "metadata": {},
   "outputs": [],
   "source": [
    "# Convert to a format Tensorflow understands\n",
    "new_img_grayscale_clahe_normalised = np.reshape(new_img_grayscale_clahe_normalised, (new_img_grayscale_clahe_normalised.shape[0], 32, 32, 1))"
   ]
  },
  {
   "cell_type": "code",
   "execution_count": null,
   "metadata": {},
   "outputs": [],
   "source": [
    "# Let's run the predictions now\n",
    "preds = me_g_clahe_norm_take2_drpt_0_50_3x3.predict(new_img_grayscale_clahe_normalised)"
   ]
  },
  {
   "cell_type": "code",
   "execution_count": null,
   "metadata": {},
   "outputs": [],
   "source": [
    "preds"
   ]
  },
  {
   "cell_type": "markdown",
   "metadata": {},
   "source": [
    "## Analyze Prediction Performance\n",
    "### Calculating accuracy"
   ]
  },
  {
   "cell_type": "code",
   "execution_count": null,
   "metadata": {},
   "outputs": [],
   "source": [
    "new_img_grayscale_norm_pred_acc = np.sum(new_img_lbs == preds) / len(preds)\n",
    "print(\"[Grayscale Normalised] Predictional accuracy on new images: {0}%\".format(new_img_grayscale_norm_pred_acc * 100))"
   ]
  },
  {
   "cell_type": "markdown",
   "metadata": {},
   "source": [
    "We achieve perfect accuracy of 100% on the new images. On the original test set, we achieved 97.75% accuracy. We could explore blurring our new images or modifying contrast to see how the model handles those changes in the future.\n",
    "\n",
    "Next we will explore the distribution of our top 5 Softmax probabilities for each image and will plot them.\n",
    "\n",
    "### Calculating Top 5 Softmax Probabilities"
   ]
  },
  {
   "cell_type": "code",
   "execution_count": null,
   "metadata": {},
   "outputs": [],
   "source": [
    "new_img_grayscale_clahe_norm_top5_probs = me_g_clahe_norm_take2_drpt_0_50_3x3.predict(new_img_grayscale_clahe_normalised, top_5=True)"
   ]
  },
  {
   "cell_type": "code",
   "execution_count": null,
   "metadata": {},
   "outputs": [],
   "source": [
    "new_img_grayscale_clahe_norm_softmax_lbs_names = list(map(lambda cids: class_ids_to_labels(cids), new_img_grayscale_clahe_norm_top5_probs.indices))"
   ]
  },
  {
   "cell_type": "code",
   "execution_count": null,
   "metadata": {},
   "outputs": [],
   "source": [
    "new_img_grayscale_clahe_norm_softmax_and_labels = (list(zip(new_img_grayscale_clahe_norm_top5_probs.values, new_img_grayscale_clahe_norm_softmax_lbs_names)))"
   ]
  },
  {
   "cell_type": "code",
   "execution_count": null,
   "metadata": {},
   "outputs": [],
   "source": [
    "# Let's see the Softmax probabilities for the first image to have an idea what the format looks like\n",
    "new_img_grayscale_clahe_norm_top5_probs.values[0]"
   ]
  },
  {
   "cell_type": "code",
   "execution_count": null,
   "metadata": {},
   "outputs": [],
   "source": [
    "# Let's do the same for the predicted labels\n",
    "new_img_grayscale_clahe_norm_top5_probs.indices[0]"
   ]
  },
  {
   "cell_type": "code",
   "execution_count": null,
   "metadata": {},
   "outputs": [],
   "source": [
    "# And now let's see what our zipped list of softmax probabilities with label names looks like\n",
    "new_img_grayscale_clahe_norm_softmax_and_labels[0]"
   ]
  },
  {
   "cell_type": "markdown",
   "metadata": {},
   "source": [
    "## Visualising Our SoftMax Probabilities\n",
    "We show each new images next to its computed top 5 softmax probabilities. The bars in green indicates the ground truth label."
   ]
  },
  {
   "cell_type": "code",
   "execution_count": null,
   "metadata": {},
   "outputs": [],
   "source": [
    "def show_imgs_softmax_probs(imgs, softmax_probs_lb_names, correct_lbs, fig_size=(15, 7)):\n",
    "    rows = len(imgs)\n",
    "    fg, ax = plt.subplots(nrows=rows, ncols=2, figsize=fig_size)\n",
    "    for i, prob_lb in enumerate(softmax_probs_lb_names):\n",
    "        correct_lb = correct_lbs[i]\n",
    "        img = imgs[i]\n",
    "        ax[i,0].imshow(img)\n",
    "        ax[i,0].axis(\"off\")\n",
    "\n",
    "        lb_names = prob_lb[1]\n",
    "        y_pos = np.arange(len(lb_names))\n",
    "        vals = prob_lb[0]\n",
    "        for j in range(0, len(lb_names)):\n",
    "            c = \"g\" if lb_names[j] == correct_lb else \"r\"\n",
    "            ax[i, 1].barh(j, vals[j], color=c, label=\"{0}\".format(lb_names[j]))\n",
    "\n",
    "        ax[i, 1].set_yticks(y_pos)\n",
    "        ax[i, 1].set_yticklabels(lb_names)\n",
    "        ax[i, 1].invert_yaxis()  # labels read top-to-bottom\n",
    "        ax[i, 1].set_xlabel('Class')\n",
    "        ax[i, 1].set_title('Softmax')  \n",
    "        ax[i, 1].set_xscale('log')\n",
    "\n",
    "        ax[i, 1].legend(loc='lower right')\n",
    "    \n",
    "    fg.tight_layout()\n",
    "    plt.show()"
   ]
  },
  {
   "cell_type": "code",
   "execution_count": null,
   "metadata": {},
   "outputs": [],
   "source": [
    "show_imgs_softmax_probs(new_imgs, new_img_grayscale_clahe_norm_softmax_and_labels, new_img_lbs_text, fig_size=(15, 20))"
   ]
  },
  {
   "cell_type": "markdown",
   "metadata": {},
   "source": [
    "We can clearly see that our model quite confident in its predictions. In the worst case (last image), the 2 most likely prediction has a probability of around 10-3. In fact our model struggles most on the last image, which I believe is actually a design a not even a real picture. Overall, we have developed a strong model!\n",
    "\n",
    "## Visualizing feature maps\n",
    "This Section is not required to complete but acts as an additional excersise for understaning the output of a neural network's weights. While neural networks can be a great learning device they are often referred to as a black box. We can understand what the weights of a neural network look like better by plotting their feature maps. After successfully training your neural network you can see what it's feature maps look like by plotting the output of the network's weight layers in response to a test stimuli image. From these plotted feature maps, it's possible to see what characteristics of an image the network finds interesting. For a sign, maybe the inner network feature maps react with high activation to the sign's boundary outline or to the contrast in the sign's painted symbol.\n",
    "\n",
    "Provided for you below is the function code that allows you to get the visualization output of any tensorflow weight layer you want. The inputs to the function should be a stimuli image, one used during training or a new one you provided, and then the tensorflow variable name that represents the layer's state during the training process, for instance if you wanted to see what the LeNet lab's feature maps looked like for it's second convolutional layer you could enter conv2 as the tf_activation variable.\n",
    "\n",
    "For an example of what feature map outputs look like, check out NVIDIA's results in their paper End-to-End Deep Learning for Self-Driving Cars in the section Visualization of internal CNN State. NVIDIA was able to show that their network's inner weights had high activations to road boundary lines by comparing feature maps from an image with a clear path to one without. Try experimenting with a similar test to show that your trained network's weights are looking for interesting features, whether it's looking at differences in feature maps from images with or without a sign, or even what feature maps look like in a trained network vs a completely untrained one on the same sign image."
   ]
  },
  {
   "cell_type": "code",
   "execution_count": null,
   "metadata": {},
   "outputs": [],
   "source": [
    "selected_new_img = np.reshape(new_img_grayscale_clahe[0], (32, 32, 1))"
   ]
  },
  {
   "cell_type": "code",
   "execution_count": null,
   "metadata": {},
   "outputs": [],
   "source": [
    "me_g_clahe_norm_take2_drpt_0_50_3x3.show_conv_feature_maps(selected_new_img, conv_layer_idx=0, fig_size=(20, 10), title_y_pos=1)"
   ]
  },
  {
   "cell_type": "markdown",
   "metadata": {},
   "source": [
    "We can see that the network is focusing a lot on the edges of the circle and somehow on the 120. The background is ignored"
   ]
  },
  {
   "cell_type": "code",
   "execution_count": null,
   "metadata": {},
   "outputs": [],
   "source": [
    "me_g_clahe_norm_take2_drpt_0_50_3x3.show_conv_feature_maps(selected_new_img, conv_layer_idx=1, fig_size=(20, 15), title_y_pos=1)"
   ]
  },
  {
   "cell_type": "code",
   "execution_count": null,
   "metadata": {},
   "outputs": [],
   "source": [
    "me_g_clahe_norm_take2_drpt_0_50_3x3.show_conv_feature_maps(selected_new_img, conv_layer_idx=2, fig_size=(20, 20), title_y_pos=1)"
   ]
  },
  {
   "cell_type": "markdown",
   "metadata": {},
   "source": [
    "This activation map is also hard to decipher... But it seems the network reacts to stimuli on the edges and in the middle once again."
   ]
  }
 ],
 "metadata": {
  "kernelspec": {
   "display_name": "Python [conda env:Deep-Learning]",
   "language": "python",
   "name": "conda-env-Deep-Learning-py"
  },
  "language_info": {
   "codemirror_mode": {
    "name": "ipython",
    "version": 3
   },
   "file_extension": ".py",
   "mimetype": "text/x-python",
   "name": "python",
   "nbconvert_exporter": "python",
   "pygments_lexer": "ipython3",
   "version": "3.7.9"
  }
 },
 "nbformat": 4,
 "nbformat_minor": 4
}
